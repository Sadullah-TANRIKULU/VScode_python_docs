{
 "cells": [
  {
   "cell_type": "code",
   "execution_count": 2,
   "metadata": {},
   "outputs": [
    {
     "name": "stdout",
     "output_type": "stream",
     "text": [
      "Maximum avarage belongs to Student-4\n",
      "70.2\n",
      "Minimum avarage belongs to Student-1\n",
      "65.4\n"
     ]
    }
   ],
   "source": [
    "# Write a Python code that find the students who have maximum and minimum average at below. \n",
    "\n",
    "grades = {'Student-1': {'Lesson-1': 57, 'Lesson-2': 46, 'Lesson-3': 58, 'Lesson-4': 81, 'Lesson-5': 85}, \n",
    "        'Student-2': {'Lesson-1': 85, 'Lesson-2': 56, 'Lesson-3': 51, 'Lesson-4': 69, 'Lesson-5': 67}, \n",
    "        'Student-3': {'Lesson-1': 68, 'Lesson-2': 76, 'Lesson-3': 87, 'Lesson-4': 57, 'Lesson-5': 56}, \n",
    "        'Student-4': {'Lesson-1': 78, 'Lesson-2': 93, 'Lesson-3': 88, 'Lesson-4': 38, 'Lesson-5': 54}, \n",
    "        'Student-5': {'Lesson-1': 50, 'Lesson-2': 46, 'Lesson-3': 78, 'Lesson-4': 81, 'Lesson-5': 75}}\n",
    "\n",
    "\n",
    "avarage_S1 = (grades[\"Student-1\"][\"Lesson-1\"] + grades[\"Student-1\"][\"Lesson-2\"] + grades[\"Student-1\"][\"Lesson-3\"] \\\n",
    "    + grades[\"Student-1\"][\"Lesson-4\"] + grades[\"Student-1\"][\"Lesson-5\"]) / (len(grades[\"Student-1\"]))\n",
    "\n",
    "avarage_S2 = (grades[\"Student-2\"][\"Lesson-1\"] + grades[\"Student-2\"][\"Lesson-2\"] + grades[\"Student-2\"][\"Lesson-3\"] \\\n",
    "    + grades[\"Student-2\"][\"Lesson-4\"] + grades[\"Student-2\"][\"Lesson-5\"]) / (len(grades[\"Student-2\"]))\n",
    "\n",
    "avarage_S3 = (grades[\"Student-3\"][\"Lesson-1\"] + grades[\"Student-3\"][\"Lesson-2\"] + grades[\"Student-3\"][\"Lesson-3\"] \\\n",
    "    + grades[\"Student-3\"][\"Lesson-4\"] + grades[\"Student-3\"][\"Lesson-5\"]) / (len(grades[\"Student-3\"]))\n",
    "\n",
    "avarage_S4 = (grades[\"Student-4\"][\"Lesson-1\"] + grades[\"Student-4\"][\"Lesson-2\"] + grades[\"Student-4\"][\"Lesson-3\"] \\\n",
    "    + grades[\"Student-4\"][\"Lesson-4\"] + grades[\"Student-4\"][\"Lesson-5\"]) / (len(grades[\"Student-4\"]))\n",
    "\n",
    "avarage_S5 = (grades[\"Student-5\"][\"Lesson-1\"] + grades[\"Student-5\"][\"Lesson-2\"] + grades[\"Student-5\"][\"Lesson-3\"] \\\n",
    "    + grades[\"Student-5\"][\"Lesson-4\"] + grades[\"Student-5\"][\"Lesson-5\"]) / (len(grades[\"Student-5\"]))\n",
    "\n",
    "dict_student_grade = {\"Student-1\" : avarage_S1, \"Student-2\" : avarage_S2, \"Student-3\" : avarage_S3, \\\n",
    "    \"Student-4\" : avarage_S4, \"Student-5\" : avarage_S5}\n",
    "\n",
    "max_average_student = max(dict_student_grade, key = dict_student_grade.get) #\n",
    "\n",
    "print(\"Maximum avarage belongs to\", max_average_student)\n",
    "\n",
    "max_grade = max(dict_student_grade.values())\n",
    "\n",
    "print(max_grade)\n",
    "\n",
    "min_average_student = min(dict_student_grade, key = dict_student_grade.get)\n",
    "\n",
    "print(\"Minimum avarage belongs to\", min_average_student)\n",
    "\n",
    "min_grade = min(dict_student_grade.values())\n",
    "\n",
    "print(min_grade)\n"
   ]
  },
  {
   "cell_type": "code",
   "execution_count": 1,
   "metadata": {},
   "outputs": [
    {
     "name": "stdout",
     "output_type": "stream",
     "text": [
      "{1: 10, 2: 20, 3: 30, 4: 40, 5: 50, 6: 60}\n"
     ]
    },
    {
     "data": {
      "text/plain": [
       "dict"
      ]
     },
     "execution_count": 1,
     "metadata": {},
     "output_type": "execute_result"
    }
   ],
   "source": [
    "# Write a Python script to concatenate following dictionaries to create a new one.\n",
    "# Sample Dictionary :\n",
    "dic1={1:10, 2:20}\n",
    "dic2={3:30, 4:40}\n",
    "dic3={5:50,6:60}\n",
    "# Expected Result : {1: 10, 2: 20, 3: 30, 4: 40, 5: 50, 6: 60}\n",
    "new_dict = dict()\n",
    "new_dict.update(dic1)\n",
    "new_dict.update(dic2)\n",
    "new_dict.update(dic3)\n",
    "print(new_dict)\n",
    "\n",
    "g = {}\n",
    "type(g)"
   ]
  },
  {
   "cell_type": "code",
   "execution_count": 2,
   "metadata": {},
   "outputs": [
    {
     "data": {
      "text/plain": [
       "'7568 sec is equal to 2 hour(s), 6 minutes, 8 seconds.'"
      ]
     },
     "execution_count": 2,
     "metadata": {},
     "output_type": "execute_result"
    }
   ],
   "source": [
    "# benim çözümüm\n",
    "total_seconds = int(input(\"How many seconds to calculate?(bigger than 3600 pls):\"))\n",
    "\n",
    "hours = total_seconds // 3600\n",
    "minutes = (total_seconds % 3600) // 60\n",
    "seconds = (total_seconds % 60)\n",
    "\n",
    "f\"{total_seconds} sec is equal to {hours} hour(s), {minutes} minutes, {seconds} seconds.\""
   ]
  },
  {
   "cell_type": "markdown",
   "metadata": {},
   "source": [
    "The provided code stub reads two integers from STDIN,  and .add code to print three lines where:\n",
    "The first line contains the sum of the two numbers.\n",
    "The second line contains the difference of the two numbers (first - second).\n",
    "The third line contains the product of the two numbers.\n",
    "\n",
    "Example\n",
    "a = 3\n",
    "b = 5\n",
    "Print the following:\n",
    "8\n",
    "-2\n",
    "15\n",
    "Input Format\n",
    "The first line contains the first integer, .\n",
    "The second line contains the second integer, ."
   ]
  },
  {
   "cell_type": "code",
   "execution_count": 1,
   "metadata": {},
   "outputs": [
    {
     "name": "stdout",
     "output_type": "stream",
     "text": [
      "here is your sum 15\n",
      "here is your difference -1\n",
      "here is your product 56\n"
     ]
    }
   ],
   "source": [
    "a = int(input(\"pls, input a number:\"))\n",
    "b = int(input(\"pls, input second number:\"))\n",
    "\n",
    "print(\"here is your sum\", a+b)\n",
    "print(\"here is your difference\", a-b)\n",
    "print(\"here is your product\", a*b)\n"
   ]
  },
  {
   "cell_type": "markdown",
   "metadata": {},
   "source": [
    "Merhaba arkadaşlar,: eksikliklerimiz kapatacağımız öğrendiklerimiiz pekiştireceğimiz hafta başladı hepinize bol çalışmalar dilerim. Sizin için kolay bir soru paylaşıyorum kolay gelsin... (çözerken döngü kullanmayalım)\n",
    "Given a list, right rotate the list by n position.\n",
    "Write a program to shift every element of a list to circularly right.\n",
    "Example =\n",
    "num = int(input(\"\"))   3 seçtim örneğin\n",
    "liste = [1, 2, 3, 4, 5, 6]\n",
    "görüldüğü üzere sayılar 3 basamak sağa doğru kaydı\n",
    "Output = [4, 5, 6, 1, 2, 3]"
   ]
  },
  {
   "cell_type": "code",
   "execution_count": 13,
   "metadata": {},
   "outputs": [
    {
     "name": "stdout",
     "output_type": "stream",
     "text": [
      "[3, 4, 5, 6, 1, 2]\n"
     ]
    }
   ],
   "source": [
    "liste = [1, 2, 3, 4, 5, 6]\n",
    "n_pos_switch_right = int(input(\"How many position switch to right?:\")) % len(liste) # yüksek sayı girildiğinde hata vermemesi için\n",
    "shifted_liste = liste[n_pos_switch_right:] + liste[:n_pos_switch_right]\n",
    "print(shifted_liste)\n"
   ]
  },
  {
   "cell_type": "code",
   "execution_count": 28,
   "metadata": {},
   "outputs": [
    {
     "name": "stdout",
     "output_type": "stream",
     "text": [
      "[11, 12, 1, 2, 3, 4, 5, 6, 7, 8, 9, 10]\n"
     ]
    }
   ],
   "source": [
    "given_list = [1, 2, 3, 4, 5, 6, 7, 8, 9, 10, 11, 12]\n",
    "n = int(input('Please enter a number to rotate the list by n position; n = ')) % len(given_list)  # % sonradan ekledim.\n",
    "temp_list1 = given_list[0:n] # create a temporary list by 'slicing' method.\n",
    "new_rotated_list = given_list[n:] # create another (temporary) list by 'slicing' method.\n",
    "new_rotated_list.extend(temp_list1) # now combine both temporary list by 'list.extend' method\n",
    "print(new_rotated_list)"
   ]
  },
  {
   "cell_type": "markdown",
   "metadata": {},
   "source": [
    "Merhaba Arkadaşlar:\n",
    "Günün anlam ve önemine uygun size bir python sorusu kolay gelsin....\n",
    "Write a Python program to get a string from a given string where all occurrences of its first *char have been changed to '$', except the first char itself\n",
    "Sample String : 'restart'\n",
    "Expected Result : 'resta$t' (edited) "
   ]
  },
  {
   "cell_type": "code",
   "execution_count": 45,
   "metadata": {},
   "outputs": [
    {
     "name": "stdout",
     "output_type": "stream",
     "text": [
      "an$k$r$l$r\n"
     ]
    }
   ],
   "source": [
    "string = input(\"write a string includes a few same characters:\")\n",
    "first_char = string[0]\n",
    "print(string.title().replace(first_char, \"$\").lower())\n",
    "\n"
   ]
  },
  {
   "cell_type": "code",
   "execution_count": 21,
   "metadata": {},
   "outputs": [
    {
     "name": "stdout",
     "output_type": "stream",
     "text": [
      "j$gf$f$gfjf$j\n",
      "jhgf$f$gfjf$j\n"
     ]
    },
    {
     "ename": "AttributeError",
     "evalue": "type object 'list' has no attribute 'replace'",
     "output_type": "error",
     "traceback": [
      "\u001b[1;31m---------------------------------------------------------------------------\u001b[0m",
      "\u001b[1;31mAttributeError\u001b[0m                            Traceback (most recent call last)",
      "\u001b[1;32mc:\\Users\\Sadullah TANRIKULU\\Desktop\\VScode_python_docs\\mentor_questions.ipynb Cell 11'\u001b[0m in \u001b[0;36m<module>\u001b[1;34m\u001b[0m\n\u001b[0;32m      <a href='vscode-notebook-cell:/c%3A/Users/Sadullah%20TANRIKULU/Desktop/VScode_python_docs/mentor_questions.ipynb#ch0000010?line=6'>7</a>\u001b[0m newest_string \u001b[39m=\u001b[39m new_string\u001b[39m.\u001b[39mreplace(new_string[\u001b[39m4\u001b[39m], fourth_char, \u001b[39m1\u001b[39m)  \u001b[39m# replace metodunda count kısmı kullanımı\u001b[39;00m\n\u001b[0;32m      <a href='vscode-notebook-cell:/c%3A/Users/Sadullah%20TANRIKULU/Desktop/VScode_python_docs/mentor_questions.ipynb#ch0000010?line=7'>8</a>\u001b[0m \u001b[39mprint\u001b[39m(newest_string)\n\u001b[1;32m----> <a href='vscode-notebook-cell:/c%3A/Users/Sadullah%20TANRIKULU/Desktop/VScode_python_docs/mentor_questions.ipynb#ch0000010?line=8'>9</a>\u001b[0m help(\u001b[39mlist\u001b[39;49m\u001b[39m.\u001b[39;49mreplace)\n",
      "\u001b[1;31mAttributeError\u001b[0m: type object 'list' has no attribute 'replace'"
     ]
    }
   ],
   "source": [
    "string = input(\"string:\")\n",
    "fourth_char = string[4]\n",
    "new_string = string.replace(fourth_char, \"$\")\n",
    "print(new_string)\n",
    "\n",
    "\n",
    "newest_string = new_string.replace(new_string[4], fourth_char, 1)  # replace metodunda count kısmı kullanımı\n",
    "print(newest_string)\n"
   ]
  },
  {
   "cell_type": "code",
   "execution_count": 48,
   "metadata": {},
   "outputs": [
    {
     "name": "stdout",
     "output_type": "stream",
     "text": [
      "an$k$r$l$r\n"
     ]
    }
   ],
   "source": [
    "string = input(\"write a string includes a few same characters:\")\n",
    "newstring = string[0]+string[1::].replace(str(string[0]), \"$\")\n",
    "print(newstring)"
   ]
  },
  {
   "cell_type": "code",
   "execution_count": 49,
   "metadata": {},
   "outputs": [
    {
     "name": "stdout",
     "output_type": "stream",
     "text": [
      "an$k$r$l$r\n"
     ]
    }
   ],
   "source": [
    "string = input(\"write a string includes a few same characters:\")\n",
    "first_char = string[0]\n",
    "string = string.replace(first_char, \"$\")\n",
    "string = first_char + string[1::]\n",
    "print(string)"
   ]
  },
  {
   "cell_type": "code",
   "execution_count": 24,
   "metadata": {},
   "outputs": [
    {
     "name": "stdout",
     "output_type": "stream",
     "text": [
      "Help on method_descriptor:\n",
      "\n",
      "replace(self, old, new, count=-1, /)\n",
      "    Return a copy with all occurrences of substring old replaced by new.\n",
      "    \n",
      "      count\n",
      "        Maximum number of occurrences to replace.\n",
      "        -1 (the default value) means replace all occurrences.\n",
      "    \n",
      "    If the optional argument count is given, only the first count occurrences are\n",
      "    replaced.\n",
      "\n"
     ]
    }
   ],
   "source": [
    "help(str.replace)"
   ]
  },
  {
   "cell_type": "code",
   "execution_count": 29,
   "metadata": {},
   "outputs": [
    {
     "name": "stdout",
     "output_type": "stream",
     "text": [
      "$n$k$r$l$r\n",
      "$n$k$r$l$r\n"
     ]
    }
   ],
   "source": [
    "word = str(input(\"write a string includes a few same characters:\"))\n",
    "n = int(input(\"input index number:\"))\n",
    "char = word[n]\n",
    "new_word = word.replace(char,\"$\")\n",
    "print(new_word)\n",
    "print(new_word[:n] + new_word[n:])"
   ]
  },
  {
   "cell_type": "markdown",
   "metadata": {},
   "source": [
    "Merhaba Arkadaşlar : sizlere güzel bir soru paylaşıyorum : şu ana kadar gördüğünüz konularla çözünüz lütfen if else for while  kullanmayınız: Google yapmadan kendiniz çözmeye çalışın:\n",
    "Write a program that takes a maximum two-digit (1-99) number from the user and finds the pronunciation of that number. For example:\n",
    "İnput:97\n",
    "Output:Doksan Yedi (edited) "
   ]
  },
  {
   "cell_type": "code",
   "execution_count": 35,
   "metadata": {},
   "outputs": [
    {
     "name": "stdout",
     "output_type": "stream",
     "text": [
      "16 Ten Six\n",
      "Read here (11-19) 16 Sixteen\n"
     ]
    }
   ],
   "source": [
    "two_digit_num = int(input(\"most two digit number:\"))\n",
    "ones_pronounciaiton_dict = {0 : \"\", 1 : \"One\", 2 : \"Two\", 3 : \"Three\", 4 : \"Four\", 5 : \"Five\",\\\n",
    "     6 : \"Six\", 7 : \"Seven\", 8 : \"Eight\", 9 : \"Nine\"}\n",
    "tens_pronounciation_dict = {0 : \"\", 1 : \"Ten\", 2 : \"Twenty\", 3 : \"Thirty\", 4 : \"Fourthy\", 5 : \"Fifty\",\\\n",
    "     6 : \"Sixty\", 7 : \"Seventy\", 8 : \"Eighty\", 9 : \"Ninety\"}\n",
    "\n",
    "tens_digit = two_digit_num // 10\n",
    "ones_digit = two_digit_num % 10\n",
    "print(two_digit_num, tens_pronounciation_dict[tens_digit] + \" \" + ones_pronounciaiton_dict[ones_digit])\n",
    "if two_digit_num == 11:\n",
    "    print(\"eleven\")\n",
    "elif two_digit_num == 12:\n",
    "    print(\"twelve\")\n",
    "else:\n",
    "    print(\"Read here (11-19)\", two_digit_num, tens_pronounciation_dict[ones_digit][0:4] + \"een\")"
   ]
  },
  {
   "cell_type": "code",
   "execution_count": 36,
   "metadata": {},
   "outputs": [
    {
     "name": "stdout",
     "output_type": "stream",
     "text": [
      "Enter your 2 digit number:  9\n",
      " Dokuz\n"
     ]
    }
   ],
   "source": [
    "sayı = int(input(\"Enter your 2 digit number: \"))\n",
    "sayı_birler = sayı%10\n",
    "sayı_onlar = sayı // 10\n",
    "birler = [\"\", \"Bir\", \"İki\", \"Üç\", \"Dört\", \"Beş\", \"Altı\", \"Yedi\", \"Sekiz\", \"Dokuz\"]\n",
    "onlar = [\"\", \"On\", \"Yirmi\", \"Otuz\", \"Kırk\", \"Elli\", \"Altmış\", \"Yetmiş\", \"Seksen\", \"Doksan\"]\n",
    "print(\"Enter your 2 digit number: \", sayı)\n",
    "print(onlar[int(sayı_onlar)], birler[int(sayı_birler)])"
   ]
  },
  {
   "cell_type": "markdown",
   "metadata": {},
   "source": [
    "s = \"5 2 3 6 6 5\" write a program that find the second highest value from that"
   ]
  },
  {
   "cell_type": "code",
   "execution_count": 38,
   "metadata": {},
   "outputs": [
    {
     "name": "stdout",
     "output_type": "stream",
     "text": [
      "['5', '2', '3', '6', '6', '5']\n",
      "{'5', '6', '3', '2'}\n",
      "['2', '3', '5', '6']\n",
      "5\n"
     ]
    }
   ],
   "source": [
    "s = \"5 2 3 6 6 5\"\n",
    "s = s.split()\n",
    "print(s)\n",
    "s = set(s)\n",
    "print(s)\n",
    "s = list(s)\n",
    "print(sorted(s))\n",
    "print(sorted(s)[-2])"
   ]
  },
  {
   "cell_type": "markdown",
   "metadata": {},
   "source": [
    "Merhaba arkadaşlar, bugün sizlere kolay bir soru yazıyorum iki dakika da yaparsınız :man-raising-hand:\n",
    "Write a program to check if a given string is a Palindrome. A palindrome reads same from front and back e.g.- aba, ccaacc, mom, etc.\n",
    "INPUT: aba\n",
    "OUTPUT: True\n",
    "INPUT: berlin\n",
    "OUTPUT: False"
   ]
  },
  {
   "cell_type": "code",
   "execution_count": 5,
   "metadata": {},
   "outputs": [
    {
     "name": "stdout",
     "output_type": "stream",
     "text": [
      "input word is abba\n",
      "['a', 'b', 'b', 'a']\n",
      "read from leading character: abba\n",
      "read from trailing character: abba\n",
      "Palindrome situation of word is True.\n"
     ]
    }
   ],
   "source": [
    "word = input(\"write a word, is it palindrome?:\")\n",
    "print(\"input word is\", word)\n",
    "letter_list = []\n",
    "letter_list.extend(word)\n",
    "print(letter_list)\n",
    "print(\"read from leading character:\", \"\".join(letter_list))\n",
    "print(\"read from trailing character:\", \"\".join(letter_list[::-1]))\n",
    "print(f\"Palindrome situation of word is {letter_list[::-1] == letter_list}.\")"
   ]
  },
  {
   "cell_type": "code",
   "execution_count": 12,
   "metadata": {},
   "outputs": [
    {
     "name": "stdout",
     "output_type": "stream",
     "text": [
      "Help on method_descriptor:\n",
      "\n",
      "join(self, iterable, /)\n",
      "    Concatenate any number of strings.\n",
      "    \n",
      "    The string whose method is called is inserted in between each given string.\n",
      "    The result is returned as a new string.\n",
      "    \n",
      "    Example: '.'.join(['ab', 'pq', 'rs']) -> 'ab.pq.rs'\n",
      "\n"
     ]
    }
   ],
   "source": [
    "help(str.join)"
   ]
  },
  {
   "cell_type": "code",
   "execution_count": 7,
   "metadata": {},
   "outputs": [
    {
     "data": {
      "text/plain": [
       "False"
      ]
     },
     "execution_count": 7,
     "metadata": {},
     "output_type": "execute_result"
    }
   ],
   "source": [
    "s = input()\n",
    "bool(s == s[::-1])"
   ]
  },
  {
   "cell_type": "code",
   "execution_count": 6,
   "metadata": {},
   "outputs": [
    {
     "name": "stdout",
     "output_type": "stream",
     "text": [
      "False\n"
     ]
    }
   ],
   "source": [
    "word = input(\"word:\")\n",
    "print(word.endswith(word[len(word)//2::-1]))  # kelimenin sonu aynı ise bool veren endswith ile yazdırıyor.\n"
   ]
  },
  {
   "cell_type": "code",
   "execution_count": 9,
   "metadata": {},
   "outputs": [
    {
     "name": "stdout",
     "output_type": "stream",
     "text": [
      "False\n"
     ]
    }
   ],
   "source": [
    "word_palindrome = str(input(\"Please write a word and learn is it palindrome :\"))\n",
    "if word_palindrome == word_palindrome[::-1] :\n",
    "    print(True)\n",
    "else :\n",
    "    print(False)"
   ]
  },
  {
   "cell_type": "code",
   "execution_count": 13,
   "metadata": {},
   "outputs": [
    {
     "data": {
      "text/plain": [
       "False"
      ]
     },
     "execution_count": 13,
     "metadata": {},
     "output_type": "execute_result"
    }
   ],
   "source": [
    "s = input()\n",
    "s == s[::-1] in s  # == veya != boolean sonuç verir"
   ]
  },
  {
   "cell_type": "markdown",
   "metadata": {},
   "source": [
    "Task : Let's say; you left a message in the past that prints a password you need. To see the password you wrote, you need to enter your name and the program should recognize you.\n",
    "Write a program that \n",
    "\n",
    "Takes the first name from the user and compares it to yours,\n",
    "Then if the name the user entered is the same as yours, print out such as : \"Hello, Joseph! The password is : W@12\",\n",
    "If the name the user entered is not the same as yours, print out such as : \"Hello, Amina! See you later.\""
   ]
  },
  {
   "cell_type": "code",
   "execution_count": 4,
   "metadata": {},
   "outputs": [
    {
     "name": "stdout",
     "output_type": "stream",
     "text": [
      "Hello, Joseph! The password is : W@12\n"
     ]
    }
   ],
   "source": [
    "user_first_name = input(\"first name please!\").title()\n",
    "first_name_insys = \"Joseph\"\n",
    "\n",
    "if user_first_name == first_name_insys:\n",
    "    print(f\"Hello, {user_first_name}! The password is : W@12\")\n",
    "else:\n",
    "    print(f\"Hello, {user_first_name}! See you later.\")\n",
    "\n"
   ]
  },
  {
   "cell_type": "code",
   "execution_count": 3,
   "metadata": {},
   "outputs": [
    {
     "name": "stdout",
     "output_type": "stream",
     "text": [
      "Password is : 1234\n"
     ]
    }
   ],
   "source": [
    "name = 'rustu'\n",
    "password = '1234'\n",
    "user = input().lower()\n",
    "if user == name :\n",
    "    print(\"Password is :\", password)\n",
    "else :\n",
    "    print(\"Hello Gardaş, gıngıllandın! büyük küçük harfe dikkat et:).\")"
   ]
  },
  {
   "cell_type": "markdown",
   "metadata": {},
   "source": [
    "mail = \"mailto: Clarusway admission@clarusway.com, 6 Haz 2021 Paz, 21:08 tarihinde şunu yazdı:\"\n",
    "\n",
    "Write python code that outputs \"clarusway.com\" from the string in the \"mail\" variable.\n",
    "\n",
    "Expected Output: clarusway.com"
   ]
  },
  {
   "cell_type": "code",
   "execution_count": 12,
   "metadata": {},
   "outputs": [
    {
     "data": {
      "text/plain": [
       "'clarusway.com'"
      ]
     },
     "execution_count": 12,
     "metadata": {},
     "output_type": "execute_result"
    }
   ],
   "source": [
    "mail = \"mailto: Clarusway admission@clarusway.com, 6 Haz 2021 Paz, 21:08 tarihinde şunu yazdı:\"\n",
    "mail[28:41]"
   ]
  },
  {
   "cell_type": "markdown",
   "metadata": {},
   "source": [
    "The first amicable number pair 220 and 284. What are Amicable numbers?\n",
    " The proper divisors of 220 are 1, 2, 4, 5, 10, 11, 20, 22, 44, 55 and 110. The sum proper divisors of 220 is 284. Also, proper divisors of 284 are 1, 2, 4, 71 and 142.\n",
    "The sum proper divisors of 284 is 220. The first ten amicable pairs are: (220, 284), (1184, 1210), (2620, 2924), (5020, 5564), (6232, 6368), (10744, 10856), (12285, 14595), (17296, 18416), (63020, 76084), and (66928, 66992).  So, what are the amicable numbers until 100000. Write a python code."
   ]
  },
  {
   "cell_type": "code",
   "execution_count": 59,
   "metadata": {},
   "outputs": [
    {
     "name": "stdout",
     "output_type": "stream",
     "text": [
      "These are amicable numbers :  5020 , 5564\n"
     ]
    }
   ],
   "source": [
    "num1 = int(input(\"looking for amicable number1!\"))\n",
    "num2 = int(input(\"looking for amicable number2!\"))\n",
    "total_div1 = 0\n",
    "total_div2 = 0\n",
    "for div_num1 in range(1, num1):\n",
    "    if num1 % div_num1 == 0:\n",
    "        total_div1 += div_num1\n",
    "\n",
    "for div_num2 in range(1, num2):\n",
    "    if num2 % div_num2 == 0:\n",
    "        total_div2 += div_num2\n",
    "\n",
    "if total_div1 == num2 and total_div2 == num1:\n",
    "    print(\"These are amicable numbers : \", num1,\",\", num2)\n",
    "else:\n",
    "    print(\"these are not amicable numbers : \", num1, \",\", num2)   \n",
    "\n",
    "\n"
   ]
  },
  {
   "cell_type": "code",
   "execution_count": null,
   "metadata": {},
   "outputs": [],
   "source": []
  },
  {
   "cell_type": "markdown",
   "metadata": {},
   "source": [
    "Kullanıcıdan alacağınız 10 tane sayıyı küçükten büyüğe sıralayınız. Ayrıca tek olanları ayrı bir listeye , çift olanları ayrı bir listeye yazdırınız.."
   ]
  },
  {
   "cell_type": "code",
   "execution_count": 9,
   "metadata": {},
   "outputs": [
    {
     "name": "stdout",
     "output_type": "stream",
     "text": [
      "[12, 14, 36, 74, 78, 96]\n",
      "[25, 45, 85]\n"
     ]
    }
   ],
   "source": [
    "list1 = list(map(int, input(\"deneme\").split(\",\")))\n",
    "# k = int(input(\"deneme\").split(\",\"))\n",
    "# list1 = []\n",
    "# list1.append(k)\n",
    "even_nos = list(filter(lambda x: (x % 2 == 0), sorted(list1)))\n",
    "odd_nos = list(filter(lambda x: (x % 2 == 1), sorted(list1)))\n",
    "\n",
    "print(even_nos)\n",
    "print(odd_nos)"
   ]
  },
  {
   "cell_type": "code",
   "execution_count": null,
   "metadata": {},
   "outputs": [],
   "source": []
  },
  {
   "cell_type": "markdown",
   "metadata": {},
   "source": [
    "Strings - Execrise\n",
    "In [1]:\n",
    "text = \"\"\"The University of Hawaii began using radio to send digital information as early \n",
    "a Friedhelm Hillebrand conceptualised SMS in 1984 while working for Deutsche Telekom. \n",
    "Sitting Hillebrand typed out random sentences and counted every letter, number, \n",
    "punctuation, and sp Almost every time, the messages contained fewer than 160 characters, \n",
    "thus giving the basis limit one could type via text messaging. With Bernard Ghillebaert \n",
    "of France Télécom, he dev a proposal for the GSM (Groupe Spécial Mobile) meeting in \n",
    "February 1985 in Oslo. \n",
    "The first technical solution evolved in a GSM subgroup under the leadership of Finn \n",
    "Trosby. It was further developed under the leadership of Kevin Holley and Ian Harris (see \n",
    "Short Mes SMS forms an integral part of SS7 (Signalling System No. 7). under SS7, it is a \n",
    "\"state\" wit coded in the ITU-T \"T.56\" text format, that has a \"sequence lead in\" to \n",
    "determine different and may have special character codes that permits, for example, \n",
    "sending simple graphs as te This was part of ISDN (Integrated Services Digital Network) \n",
    "and since GSM is based on this, made its way to the mobile phone. Messages could be sent \n",
    "and received on ISDN phones, \n",
    "and these can send SMS to any GSM phone. The possibility of doing something is one thing, \n",
    "implementing it another, but systems existed from 1988 that sent SMS messages to mobile \n",
    "phophones (compare ND-NOTIS).\"\"\"\n",
    "\n",
    "How many characters in text\n",
    "How many words are there in the \"text\"\n",
    "How many unique words in the \"text\"\n",
    "Find Lexical diversity (lexical_diversity = (number of words)/(number of unique words))\n",
    "Count how many \"the\" in text\n",
    "Count how many \"a\" in text\n",
    "Extract First 10 words in text\n",
    "Append \" Innomatics Technology Hub\" in first 10 words\n",
    "Extract First Fourteen (14) character in text\n",
    "Convert every letter into upper case\n",
    "Convert every letter into lower case\n",
    "Replace the word \"University\" with name \"Innomatics\" in tex\n"
   ]
  },
  {
   "cell_type": "code",
   "execution_count": 54,
   "metadata": {},
   "outputs": [
    {
     "name": "stdout",
     "output_type": "stream",
     "text": [
      "1392\n",
      "228\n",
      "165\n",
      "1.38\n",
      "10\n",
      "78\n",
      "['The', 'University', 'of', 'Hawaii', 'began', 'using', 'radio', 'to', 'send', 'digital']\n",
      "['The', 'University', 'of', 'Hawaii', 'began', 'using', 'radio', 'to', 'send', 'digital', ' Innomatics Technology Hub']\n",
      "The University\n",
      "THE UNIVERSITY OF HAWAII BEGAN USING RADIO TO SEND DIGITAL INFORMATION AS EARLY \n",
      "A FRIEDHELM HILLEBRAND CONCEPTUALISED SMS IN 1984 WHILE WORKING FOR DEUTSCHE TELEKOM. \n",
      "SITTING HILLEBRAND TYPED OUT RANDOM SENTENCES AND COUNTED EVERY LETTER, NUMBER, \n",
      "PUNCTUATION, AND SP ALMOST EVERY TIME, THE MESSAGES CONTAINED FEWER THAN 160 CHARACTERS, \n",
      "THUS GIVING THE BASIS LIMIT ONE COULD TYPE VIA TEXT MESSAGING. WITH BERNARD GHILLEBAERT \n",
      "OF FRANCE TÉLÉCOM, HE DEV A PROPOSAL FOR THE GSM (GROUPE SPÉCIAL MOBILE) MEETING IN \n",
      "FEBRUARY 1985 IN OSLO. \n",
      "THE FIRST TECHNICAL SOLUTION EVOLVED IN A GSM SUBGROUP UNDER THE LEADERSHIP OF FINN \n",
      "TROSBY. IT WAS FURTHER DEVELOPED UNDER THE LEADERSHIP OF KEVIN HOLLEY AND IAN HARRIS (SEE \n",
      "SHORT MES SMS FORMS AN INTEGRAL PART OF SS7 (SIGNALLING SYSTEM NO. 7). UNDER SS7, IT IS A \n",
      "\"STATE\" WIT CODED IN THE ITU-T \"T.56\" TEXT FORMAT, THAT HAS A \"SEQUENCE LEAD IN\" TO \n",
      "DETERMINE DIFFERENT AND MAY HAVE SPECIAL CHARACTER CODES THAT PERMITS, FOR EXAMPLE, \n",
      "SENDING SIMPLE GRAPHS AS TE THIS WAS PART OF ISDN (INTEGRATED SERVICES DIGITAL NETWORK) \n",
      "AND SINCE GSM IS BASED ON THIS, MADE ITS WAY TO THE MOBILE PHONE. MESSAGES COULD BE SENT \n",
      "AND RECEIVED ON ISDN PHONES, \n",
      "AND THESE CAN SEND SMS TO ANY GSM PHONE. THE POSSIBILITY OF DOING SOMETHING IS ONE THING, \n",
      "IMPLEMENTING IT ANOTHER, BUT SYSTEMS EXISTED FROM 1988 THAT SENT SMS MESSAGES TO MOBILE \n",
      "PHOPHONES (COMPARE ND-NOTIS).\n",
      "the university of hawaii began using radio to send digital information as early \n",
      "a friedhelm hillebrand conceptualised sms in 1984 while working for deutsche telekom. \n",
      "sitting hillebrand typed out random sentences and counted every letter, number, \n",
      "punctuation, and sp almost every time, the messages contained fewer than 160 characters, \n",
      "thus giving the basis limit one could type via text messaging. with bernard ghillebaert \n",
      "of france télécom, he dev a proposal for the gsm (groupe spécial mobile) meeting in \n",
      "february 1985 in oslo. \n",
      "the first technical solution evolved in a gsm subgroup under the leadership of finn \n",
      "trosby. it was further developed under the leadership of kevin holley and ian harris (see \n",
      "short mes sms forms an integral part of ss7 (signalling system no. 7). under ss7, it is a \n",
      "\"state\" wit coded in the itu-t \"t.56\" text format, that has a \"sequence lead in\" to \n",
      "determine different and may have special character codes that permits, for example, \n",
      "sending simple graphs as te this was part of isdn (integrated services digital network) \n",
      "and since gsm is based on this, made its way to the mobile phone. messages could be sent \n",
      "and received on isdn phones, \n",
      "and these can send sms to any gsm phone. the possibility of doing something is one thing, \n",
      "implementing it another, but systems existed from 1988 that sent sms messages to mobile \n",
      "phophones (compare nd-notis).\n",
      "The Innomatics of Hawaii began using radio to send digital information as early \n",
      "a Friedhelm Hillebrand conceptualised SMS in 1984 while working for Deutsche Telekom. \n",
      "Sitting Hillebrand typed out random sentences and counted every letter, number, \n",
      "punctuation, and sp Almost every time, the messages contained fewer than 160 characters, \n",
      "thus giving the basis limit one could type via text messaging. With Bernard Ghillebaert \n",
      "of France Télécom, he dev a proposal for the GSM (Groupe Spécial Mobile) meeting in \n",
      "February 1985 in Oslo. \n",
      "The first technical solution evolved in a GSM subgroup under the leadership of Finn \n",
      "Trosby. It was further developed under the leadership of Kevin Holley and Ian Harris (see \n",
      "Short Mes SMS forms an integral part of SS7 (Signalling System No. 7). under SS7, it is a \n",
      "\"state\" wit coded in the ITU-T \"T.56\" text format, that has a \"sequence lead in\" to \n",
      "determine different and may have special character codes that permits, for example, \n",
      "sending simple graphs as te This was part of ISDN (Integrated Services Digital Network) \n",
      "and since GSM is based on this, made its way to the mobile phone. Messages could be sent \n",
      "and received on ISDN phones, \n",
      "and these can send SMS to any GSM phone. The possibility of doing something is one thing, \n",
      "implementing it another, but systems existed from 1988 that sent SMS messages to mobile \n",
      "phophones (compare ND-NOTIS).\n"
     ]
    }
   ],
   "source": [
    "text = \"\"\"The University of Hawaii began using radio to send digital information as early \n",
    "a Friedhelm Hillebrand conceptualised SMS in 1984 while working for Deutsche Telekom. \n",
    "Sitting Hillebrand typed out random sentences and counted every letter, number, \n",
    "punctuation, and sp Almost every time, the messages contained fewer than 160 characters, \n",
    "thus giving the basis limit one could type via text messaging. With Bernard Ghillebaert \n",
    "of France Télécom, he dev a proposal for the GSM (Groupe Spécial Mobile) meeting in \n",
    "February 1985 in Oslo. \n",
    "The first technical solution evolved in a GSM subgroup under the leadership of Finn \n",
    "Trosby. It was further developed under the leadership of Kevin Holley and Ian Harris (see \n",
    "Short Mes SMS forms an integral part of SS7 (Signalling System No. 7). under SS7, it is a \n",
    "\"state\" wit coded in the ITU-T \"T.56\" text format, that has a \"sequence lead in\" to \n",
    "determine different and may have special character codes that permits, for example, \n",
    "sending simple graphs as te This was part of ISDN (Integrated Services Digital Network) \n",
    "and since GSM is based on this, made its way to the mobile phone. Messages could be sent \n",
    "and received on ISDN phones, \n",
    "and these can send SMS to any GSM phone. The possibility of doing something is one thing, \n",
    "implementing it another, but systems existed from 1988 that sent SMS messages to mobile \n",
    "phophones (compare ND-NOTIS).\"\"\"\n",
    "\n",
    "print(len(text))\n",
    "print(len(list(text.split())))\n",
    "print(len(set(text.split())))\n",
    "print(\"{:.2f}\".format(len(list(text.split())) / len(set(text.split()))))\n",
    "print((text.lower()).count(\"the \"))\n",
    "print((text.lower()).count(\"a\"))\n",
    "print(list(text.split())[0:10])\n",
    "first_ten_words = list(text.split())[0:10]\n",
    "first_ten_words.append(\" Innomatics Technology Hub\")\n",
    "print(first_ten_words)\n",
    "print(text[0:14])\n",
    "print(text.upper())\n",
    "print(text.lower())\n",
    "print(text.replace(\"University\", \"Innomatics\"))\n",
    "\n",
    "\n",
    "\n"
   ]
  },
  {
   "cell_type": "code",
   "execution_count": null,
   "metadata": {},
   "outputs": [],
   "source": []
  },
  {
   "cell_type": "markdown",
   "metadata": {},
   "source": [
    "Task : Estimating the risk of death from coronavirus. Write a program that;\n",
    "\n",
    "Takes \"Yes\" or \"No\" from the user as an answer to the following questions :\n",
    "\n",
    "Are you a cigarette addict older than 75 years old? Variable → age\n",
    "\n",
    "Do you have a severe chronic disease? Variable → chronic\n",
    "\n",
    "Is your immune system too weak? Variable → immune\n",
    "\n",
    "Set a logical algorithm using boolean logic operators (and/or) and use if-statements with the given variables in order to print out us a message : \"You are in risky group\"(if True ) or \"You are not in risky group\" (if False).\n",
    "age =  # can be assigned only True/False\n",
    "chronic =  # can be assigned only True/False\n",
    "immune =  # can be assigned only True/False\n",
    "risk = ?"
   ]
  },
  {
   "cell_type": "code",
   "execution_count": 1,
   "metadata": {},
   "outputs": [
    {
     "name": "stdout",
     "output_type": "stream",
     "text": [
      "You are in risky group\n"
     ]
    }
   ],
   "source": [
    "age = input(\"Are you a cigarette addict older than 75 years old?\").lower()\n",
    "chronic = input(\"Do you have a severe chronic disease?\").lower()\n",
    "immune = input(\"Is your immune system too weak?\").lower()\n",
    "# risk = age or chronic or immune\n",
    "if age == \"yes\" or chronic == \"yes\" or immune == \"yes\":\n",
    "    print(\"You are in risky group\")\n",
    "else:\n",
    "    print(\"You are not in risky group\")\n",
    "\n"
   ]
  },
  {
   "cell_type": "code",
   "execution_count": 1,
   "metadata": {},
   "outputs": [
    {
     "name": "stdout",
     "output_type": "stream",
     "text": [
      "You have used these letters:  \n",
      "Current word:  - - - - -\n",
      "Your lives: 6\n",
      "You have used these letters:  X\n",
      "Current word:  - - X - -\n",
      "Your lives: 6\n",
      "You have used these letters:  X Y\n",
      "Current word:  - - X - -\n",
      "Your lives: 5\n",
      "You have used these letters:  X Y A\n",
      "Current word:  - - X A -\n",
      "Your lives: 5\n",
      "You have used these letters:  X Y T A\n",
      "Current word:  T - X A -\n",
      "Your lives: 5\n",
      "You have used these letters:  A Y X T S\n",
      "Current word:  T - X A S\n",
      "Your lives: 5\n",
      "Congratulations!! You won! The word is TEXAS \n"
     ]
    }
   ],
   "source": [
    "import random\n",
    "import string\n",
    "\n",
    "words = [\"LONDON\", \"PARIS\", \"ISTANBUL\", \"TORINO\", \"TOKYO\", \"TEXAS\"]\n",
    "\n",
    "def hangman():\n",
    "    word = random.choice(words)  # listedeki rastgele bir kelime seçilir. \n",
    "    word_letters = set(word)  # kelimenin harfleri ayrılır. \n",
    "    alphabet = set(string.ascii_uppercase)  # büyük harfleri küme şeklinde yazdırdık ascii sırasıyla import string lib ile. \n",
    "    used_letters = set()  # kullanılmış harfler için boş küme açtık. \n",
    "    lives = 6\n",
    "\n",
    "\n",
    "    while len(word_letters) > 0 and lives > 0:\n",
    "        print(\"You have used these letters: \", \" \".join(used_letters)) # araya bir boşluk vererek, kullanılmış harfleri yanda gösteriyoruz. \n",
    "\n",
    "        word_list = [letter if letter in used_letters else \"-\" for letter in word]  \n",
    "        # üstte list comprehension ile kelimenin her harfini gezip #tahmin edilen harf varsa yazdır, yoksa - şeklinde print ediyoruz. \n",
    "        print(\"Current word: \", \" \".join(word_list))\n",
    "        print(f\"Your lives: {lives}\")\n",
    "\n",
    "        user_letter = input(\"Guess a letter: \").upper()\n",
    "\n",
    "        if user_letter in alphabet - used_letters:\n",
    "            used_letters.add(user_letter)\n",
    "            if user_letter in word_letters:\n",
    "                word_letters.remove(user_letter)\n",
    "            else:\n",
    "                lives -= 1\n",
    "        elif user_letter in used_letters:\n",
    "            print(\"You have already used this letter..\")\n",
    "\n",
    "        else:\n",
    "            print(\"Invalid character..\")\n",
    "\n",
    "    if lives == 0:\n",
    "        print(f\"Sorry, you lost... The correct word was {word} \")\n",
    "    else:\n",
    "        print(f\"Congratulations!! You won! The word is {word} \")\n",
    "\n",
    "\n",
    "hangman()"
   ]
  },
  {
   "cell_type": "code",
   "execution_count": 3,
   "metadata": {},
   "outputs": [
    {
     "name": "stdout",
     "output_type": "stream",
     "text": [
      "Welcome to the guessing game... Guess a number between 1 and 100, I will find it.. \n",
      "Invalid feedback..\n",
      "I read your mind, your number is 50...\n"
     ]
    }
   ],
   "source": [
    "import random\n",
    "\n",
    "def comp_guess(x):\n",
    "    low = 1\n",
    "    high = x\n",
    "    feedback = \"\"\n",
    "    print(f\"Welcome to the guessing game... Guess a number between 1 and {x}, I will find it.. \")\n",
    "\n",
    "    while feedback != \"c\":\n",
    "        guess = random.randint(low, high)\n",
    "        feedback = input(f\"Is {guess} too high(h), too low(l) or correct(c)?? \").lower()\n",
    "        if feedback == \"h\":\n",
    "            high = guess - 1\n",
    "        elif feedback == \"l\":\n",
    "            low = guess + 1\n",
    "        else:\n",
    "            print(\"Invalid feedback..\")\n",
    "    print(f\"I read your mind, your number is {guess}...\")\n",
    "\n",
    "\n",
    "comp_guess(100)"
   ]
  },
  {
   "cell_type": "code",
   "execution_count": 1,
   "metadata": {},
   "outputs": [
    {
     "name": "stdout",
     "output_type": "stream",
     "text": [
      "17\n",
      "17\n"
     ]
    }
   ],
   "source": [
    "#  bir sayının asal bölenlerini (prime factors) bulma. \n",
    "n = int(input(\"number : \\n\"))\n",
    "print(n)\n",
    "\n",
    "for k in range(2, n + 1):\n",
    "    if n % k == 0:\n",
    "        count = 1\n",
    "        for i in range(2, (k//2 + 1)):\n",
    "            if k % i == 0:\n",
    "                count = 0\n",
    "                break\n",
    "        if count == 1:\n",
    "          print(k)"
   ]
  },
  {
   "cell_type": "code",
   "execution_count": 1,
   "metadata": {},
   "outputs": [
    {
     "name": "stdout",
     "output_type": "stream",
     "text": [
      "14\n",
      "8\n"
     ]
    }
   ],
   "source": [
    "x=7\n",
    "print(eval('x+7'))\n",
    "print(eval('x+(x%2)'))"
   ]
  },
  {
   "cell_type": "code",
   "execution_count": 2,
   "metadata": {},
   "outputs": [
    {
     "name": "stdout",
     "output_type": "stream",
     "text": [
      "5\n"
     ]
    }
   ],
   "source": [
    "exec('a=2;b=3;print(a+b)')"
   ]
  },
  {
   "cell_type": "code",
   "execution_count": 3,
   "metadata": {},
   "outputs": [
    {
     "name": "stdout",
     "output_type": "stream",
     "text": [
      "None\n",
      "None\n"
     ]
    }
   ],
   "source": [
    "x = 7\n",
    "print(exec('x+7'))\n",
    "print(exec('x+(x%2)'))"
   ]
  },
  {
   "cell_type": "markdown",
   "metadata": {},
   "source": [
    "Kullanıcıdan integer bir değer alan ve sayının pozitif-çift sayı olup olmadığını kontrol eden program yazınız. Girilen sayıların muhtemel farklı durumlarını göz önünde bulundurunuz. (negatif, string vs. gibi durumlar)"
   ]
  },
  {
   "cell_type": "code",
   "execution_count": null,
   "metadata": {},
   "outputs": [],
   "source": []
  },
  {
   "cell_type": "markdown",
   "metadata": {},
   "source": [
    "Write a Python program to get a string made of the first 2 and the last 2 chars from a given a string. If the string length is less than 2, return instead of the \"Empty String\"."
   ]
  },
  {
   "cell_type": "code",
   "execution_count": null,
   "metadata": {},
   "outputs": [],
   "source": []
  },
  {
   "cell_type": "markdown",
   "metadata": {},
   "source": [
    "Given a function that accepts unlimited arguments, check and count how many data types are in those arguments. Finally return the total in a list.\n",
    "List order is:\n",
    "[int, str, bool, list, tuple, dictionary]\n",
    "Examples\n",
    "[1, 45, \"Hi\", False] >>>> [2, 1, 1, 0, 0, 0]\n",
    "[[10, 20], (\"t\", \"Ok\"), 2, 3, 1] >>>> [3, 0, 0, 1, 1, 0]\n",
    "[\"Hello\", \"Bye\", True, True, False, {\"1\": \"One\", \"2\": \"Two\"}, [1, 3], {\"Brayan\": 18}, 25, 23]>>>> [2, 2, 3, 1, 0, 2]\n",
    "[4, 21, (\"ES\", \"EN\"), (\"a\", \"b\"), False, [1, 2, 3], [4, 5, 6] ]>>>>> [2, 0, 1, 2, 2, 0]"
   ]
  },
  {
   "cell_type": "code",
   "execution_count": null,
   "metadata": {},
   "outputs": [],
   "source": []
  },
  {
   "cell_type": "markdown",
   "metadata": {},
   "source": [
    "Selam arkadaşlar , ilgilenen arkadaşlar güzel bir egzersiz paylaşıyorum . Fizzbuzz game adı verilen çocuk oyunundan. oyunda çocuklar 1den 100e kadar sırayla sayıyorlar . ancak 3ün katlarında \"fizz\" , 5'in katlarında \"buzz\" , hem 3 hem de 5'in ortak katlarında \"Fizzbuzz\" diye bağırıyorlar :slightly_smiling_face: Loop ve conditionals kullanarak bu oyunu oluşurabilirsiniz. Çıkması gereken outputu resim olarak ekliyorum . İyi hafta sonları ."
   ]
  },
  {
   "cell_type": "code",
   "execution_count": null,
   "metadata": {},
   "outputs": [],
   "source": []
  },
  {
   "cell_type": "markdown",
   "metadata": {},
   "source": []
  },
  {
   "cell_type": "code",
   "execution_count": null,
   "metadata": {},
   "outputs": [],
   "source": []
  },
  {
   "cell_type": "markdown",
   "metadata": {},
   "source": [
    "Group Anagrams Purpose of the this coding challenge is to solve a grouping algorithm in Python.\n",
    "Learning Outcomes At the end of the this coding challenge, students will be able to;\n",
    "get a basic understanding of grouping algorithms. demonstrate their knowledge of lists, dicts in python implement loops to solve the problems in python get a better understanding of computational thinking concepts Problem Statement Given a list of strings, group anagrams together.\n",
    "Example:\n",
    "Input:\n",
    "[\"eat\", \"tea\", \"tan\", \"ate\", \"nat\", \"bat\"],\n",
    "Output:\n",
    "[ [\"ate\",\"eat\",\"tea\"], [\"nat\",\"tan\"], [\"bat\"] ]\n",
    "Note: All inputs will be in lowercase. The order of your output does not matter. (edited) "
   ]
  },
  {
   "cell_type": "code",
   "execution_count": null,
   "metadata": {},
   "outputs": [],
   "source": []
  },
  {
   "cell_type": "markdown",
   "metadata": {},
   "source": [
    "<img (src= ./Python/image.png)>"
   ]
  },
  {
   "cell_type": "code",
   "execution_count": 5,
   "metadata": {},
   "outputs": [
    {
     "name": "stdout",
     "output_type": "stream",
     "text": [
      "4201\n"
     ]
    }
   ],
   "source": [
    "n = 42023110\n",
    "k = 10\n",
    "while k > 0:\n",
    "    if str(n)[-1] == \"0\":\n",
    "        num_new = \"\".join(str(n).rsplit(\"0\", 1))\n",
    "        n = int(num_new)\n",
    "    else:  \n",
    "        n = n - 1\n",
    "    k = k - 1\n",
    "\n",
    "print(n)"
   ]
  },
  {
   "cell_type": "code",
   "execution_count": 1,
   "metadata": {},
   "outputs": [],
   "source": [
    "a = 3\n",
    "b = 5\n",
    "a, b = b, a"
   ]
  },
  {
   "cell_type": "code",
   "execution_count": 2,
   "metadata": {},
   "outputs": [
    {
     "name": "stdout",
     "output_type": "stream",
     "text": [
      "5\n",
      "3\n"
     ]
    }
   ],
   "source": [
    "print(a)\n",
    "print(b)"
   ]
  },
  {
   "cell_type": "code",
   "execution_count": null,
   "metadata": {},
   "outputs": [],
   "source": []
  },
  {
   "cell_type": "code",
   "execution_count": null,
   "metadata": {},
   "outputs": [],
   "source": []
  },
  {
   "cell_type": "code",
   "execution_count": null,
   "metadata": {},
   "outputs": [],
   "source": []
  },
  {
   "cell_type": "code",
   "execution_count": null,
   "metadata": {},
   "outputs": [],
   "source": []
  },
  {
   "cell_type": "code",
   "execution_count": null,
   "metadata": {},
   "outputs": [],
   "source": []
  }
 ],
 "metadata": {
  "interpreter": {
   "hash": "8f4a6391e1b416e87673bf8c434effa0344087e493d9d0bc28a0b378216aa186"
  },
  "kernelspec": {
   "display_name": "Python 3.10.2 64-bit",
   "language": "python",
   "name": "python3"
  },
  "language_info": {
   "codemirror_mode": {
    "name": "ipython",
    "version": 3
   },
   "file_extension": ".py",
   "mimetype": "text/x-python",
   "name": "python",
   "nbconvert_exporter": "python",
   "pygments_lexer": "ipython3",
   "version": "3.10.2"
  },
  "orig_nbformat": 4
 },
 "nbformat": 4,
 "nbformat_minor": 2
}
