{
 "cells": [
  {
   "cell_type": "code",
   "execution_count": 1,
   "metadata": {},
   "outputs": [
    {
     "name": "stdout",
     "output_type": "stream",
     "text": [
      "[1, 2, 3, 4, 5, 6, 7, 8, 9, 10]\n"
     ]
    }
   ],
   "source": [
    "\"\"\"\n",
    "Create a list which consists of int numbers from 1 to 10 using range() function. \n",
    "Sort the numbers of the list in descending order and print the result.\n",
    "\n",
    "\"\"\"\n",
    "o_list = list(range(1, 11))  # list()  list = []\n",
    "o_list.sort(reverse=True)\n",
    "print(o_list)"
   ]
  },
  {
   "cell_type": "code",
   "execution_count": 18,
   "metadata": {},
   "outputs": [
    {
     "name": "stdout",
     "output_type": "stream",
     "text": [
      "['eggplant', 'spinach', 'leek']\n"
     ]
    }
   ],
   "source": [
    "\"\"\"\n",
    "Select and print the vegetables from the following list using indexing and slicing methods. \n",
    "Note that, except from the given list (grocer), your program must consist of a single line of code.\n",
    "\"\"\"\n",
    "grocer = [\"banana\", [\"orange\", [\"apple\", \"eggplant\", \"melon\", \"spinach\", \"cheese\", \"leek\" ], \"water\"], \"mandarin\"]\n",
    "print(grocer[1][1][1:6:2])  # [1][1][1]"
   ]
  },
  {
   "cell_type": "code",
   "execution_count": 19,
   "metadata": {},
   "outputs": [
    {
     "name": "stdout",
     "output_type": "stream",
     "text": [
      "My two favorite flowers are tulip and rose, two favorite colors are blue and green.\n"
     ]
    }
   ],
   "source": [
    "\"\"\"\n",
    "Considering the following flowers and colors lists, write the program \n",
    "using .format() and list indexing methods that will print out the text below.\n",
    "text = 'My two favorite flowers are tulip and rose, two favorite colors are blue and green.'\n",
    "\"\"\"\n",
    "flowers = [[\"jasmine\", [\"lavender\", \"rose\"], \"tulip\"]]\n",
    "colors = [\"red\", (\"blue\", [\"yellow\", \"green\"]), \"pink\"]\n",
    "text = \"My two favorite flowers are {} and {}, two favorite colors are {} \\\n",
    "and {}.\".format(flowers[0][2], flowers[0][1][1], colors[1][0], \\\n",
    "colors[1][1][1])\n",
    "print(text)"
   ]
  },
  {
   "cell_type": "code",
   "execution_count": 20,
   "metadata": {},
   "outputs": [
    {
     "name": "stdout",
     "output_type": "stream",
     "text": [
      "I am 40 years old.\n",
      "\tI have two children.\n",
      "\t\tData Science is my IT domain.\n"
     ]
    }
   ],
   "source": [
    "\"\"\"\n",
    "Re-arrange the sentence using the escape sequences from the list using .format() and list indexing methods to get the following output.\n",
    "\n",
    "Desired output :\n",
    "I am 40 years old.\n",
    "    I have two children.\n",
    "        Data Science is my IT domain.\n",
    "The string variable to be arranged :\n",
    "sentence = \"I am 40 years old. I have two children. Data Science is my IT domain.\"\n",
    "\n",
    "\"\"\"\n",
    "escapes = [\"\\n\\t\", (\"\\t\", \"\\t\\t\"), [\"\\n\", \"\\n\\t\\t\"]]\n",
    "\n",
    "sentence = \"I am 40 years old.{}I have two children.{}Data Science is my IT domain.\".format(escapes[0], escapes[2][1] )\n",
    "\n",
    "print(sentence)\n",
    "\n"
   ]
  },
  {
   "cell_type": "code",
   "execution_count": 8,
   "metadata": {},
   "outputs": [
    {
     "data": {
      "text/plain": [
       "'the most frequent number is 3 and it was 4 times repeated.'"
      ]
     },
     "execution_count": 8,
     "metadata": {},
     "output_type": "execute_result"
    }
   ],
   "source": [
    "\"\"\"Task : Find out the most frequent number and its frequency.\n",
    "\n",
    "Write a program that;\n",
    "\n",
    "Finds out the most frequent number in the given list.\n",
    "Calculates its frequency.\n",
    "Prints out the result such as :the most frequent number is 3 and it was 4 times repeated\n",
    "Note : You may need to use useful/necessary built-in functions and \n",
    "list methods other than the functions we haven't covered in the lessons yet. \"\"\"\n",
    "numbers = [1, 3, 7, 4, 3, 0, 3, 6, 3]\n",
    "most_freq_num = max(numbers, key = numbers.count)\n",
    "repitition = numbers.count(max(numbers, key = numbers.count))\n",
    "f\"the most frequent number is {most_freq_num} and it was {repitition} times repeated.\"\n"
   ]
  },
  {
   "cell_type": "code",
   "execution_count": null,
   "metadata": {},
   "outputs": [],
   "source": []
  },
  {
   "cell_type": "code",
   "execution_count": null,
   "metadata": {},
   "outputs": [],
   "source": []
  }
 ],
 "metadata": {
  "interpreter": {
   "hash": "8f4a6391e1b416e87673bf8c434effa0344087e493d9d0bc28a0b378216aa186"
  },
  "kernelspec": {
   "display_name": "Python 3.10.2 64-bit",
   "language": "python",
   "name": "python3"
  },
  "language_info": {
   "codemirror_mode": {
    "name": "ipython",
    "version": 3
   },
   "file_extension": ".py",
   "mimetype": "text/x-python",
   "name": "python",
   "nbconvert_exporter": "python",
   "pygments_lexer": "ipython3",
   "version": "3.10.2"
  },
  "orig_nbformat": 4
 },
 "nbformat": 4,
 "nbformat_minor": 2
}
