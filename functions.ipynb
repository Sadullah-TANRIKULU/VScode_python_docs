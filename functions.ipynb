{
 "cells": [
  {
   "cell_type": "code",
   "execution_count": 25,
   "metadata": {},
   "outputs": [
    {
     "data": {
      "text/plain": [
       "2"
      ]
     },
     "execution_count": 25,
     "metadata": {},
     "output_type": "execute_result"
    }
   ],
   "source": [
    "def my_function(x, y):\n",
    "    return x % y\n",
    "a = 3  # a burda parametre\n",
    "my_function(8, 3)  # 3 burda argüman"
   ]
  },
  {
   "cell_type": "code",
   "execution_count": 9,
   "metadata": {},
   "outputs": [
    {
     "name": "stdout",
     "output_type": "stream",
     "text": [
      "0 -\n",
      "1 -\n",
      "1 -\n",
      "2 -\n",
      "3 -\n",
      "5 -\n",
      "8 -\n",
      "13 -\n",
      "21 -\n",
      "34 -\n",
      "55 -\n",
      "89 "
     ]
    }
   ],
   "source": [
    "def fibonacci():\n",
    "\n",
    "    users = int(input(\"Enter a number and see the fibonacci value of that number. :\"))\n",
    "    counter = 0\n",
    "    first_number = 0\n",
    "    second_number = 1\n",
    "    \n",
    "    \n",
    "    while users > counter:\n",
    "        print(first_number, \"-\")\n",
    "        first_number, second_number = second_number, first_number + second_number\n",
    "        counter += 1\n",
    "        # first_number += \"-\"  integer a string eklemiyor. \n",
    "    print(first_number, end= \" \")\n",
    "        \n",
    "fibonacci()"
   ]
  },
  {
   "cell_type": "code",
   "execution_count": 6,
   "metadata": {},
   "outputs": [],
   "source": [
    "def a_function(required, *args, **kwargs ):\n",
    "    \n",
    "    "
   ]
  },
  {
   "cell_type": "code",
   "execution_count": 26,
   "metadata": {},
   "outputs": [
    {
     "name": "stdout",
     "output_type": "stream",
     "text": [
      "<filter object at 0x0000021438995120>\n"
     ]
    }
   ],
   "source": [
    "    a_list = [1, 2, 3, 4, 5]\n",
    "    print(filter(all, a_list))"
   ]
  },
  {
   "cell_type": "code",
   "execution_count": 2,
   "metadata": {},
   "outputs": [],
   "source": [
    "listA = [\"susan\", \"tom\", False, 0, 22]"
   ]
  },
  {
   "cell_type": "code",
   "execution_count": null,
   "metadata": {},
   "outputs": [],
   "source": [
    "filter()"
   ]
  },
  {
   "cell_type": "code",
   "execution_count": 3,
   "metadata": {},
   "outputs": [
    {
     "name": "stdout",
     "output_type": "stream",
     "text": [
      "<filter object at 0x0000021439ADF7F0>\n"
     ]
    }
   ],
   "source": [
    "filtered_list = filter(None, listA)  #filter fonksiyonu ile yapılmış çıktıyı for loop ile açabiliriz veya... \n",
    "print(filtered_list)"
   ]
  },
  {
   "cell_type": "code",
   "execution_count": 6,
   "metadata": {},
   "outputs": [
    {
     "name": "stdout",
     "output_type": "stream",
     "text": [
      "susan\n",
      "tom\n",
      "22\n"
     ]
    }
   ],
   "source": [
    "for i in filtered_list:  # true elemanları seçer\n",
    "    print(i)"
   ]
  },
  {
   "cell_type": "code",
   "execution_count": 8,
   "metadata": {},
   "outputs": [
    {
     "name": "stdout",
     "output_type": "stream",
     "text": [
      "(0, 'susan') (1, 'tom') (2, False) (3, 0) (4, 22)\n"
     ]
    },
    {
     "data": {
      "text/plain": [
       "{0: 'susan', 1: 'tom', 2: False, 3: 0, 4: 22}"
      ]
     },
     "execution_count": 8,
     "metadata": {},
     "output_type": "execute_result"
    }
   ],
   "source": [
    "print(*enumerate(listA))  # enumerate yazdırmak için * veya başka bir type a çevirmek gerekir. \n",
    "dict(enumerate(listA))\n"
   ]
  },
  {
   "cell_type": "code",
   "execution_count": 15,
   "metadata": {},
   "outputs": [
    {
     "data": {
      "text/plain": [
       "15"
      ]
     },
     "execution_count": 15,
     "metadata": {},
     "output_type": "execute_result"
    }
   ],
   "source": [
    "a_list = [1, 2, 3, 4, 5]\n",
    "sum(a_list)"
   ]
  },
  {
   "cell_type": "code",
   "execution_count": 16,
   "metadata": {},
   "outputs": [],
   "source": [
    "def first_func(x, y):\n",
    "    print(x ** 2 + y ** 2)"
   ]
  },
  {
   "cell_type": "code",
   "execution_count": 17,
   "metadata": {},
   "outputs": [
    {
     "name": "stdout",
     "output_type": "stream",
     "text": [
      "25\n"
     ]
    }
   ],
   "source": [
    "first_func(3, 4)"
   ]
  },
  {
   "cell_type": "code",
   "execution_count": 18,
   "metadata": {},
   "outputs": [
    {
     "name": "stdout",
     "output_type": "stream",
     "text": [
      "5.0\n"
     ]
    }
   ],
   "source": [
    "def hypotenuse(a, b) :\n",
    "    print((a ** 2 + b ** 2) ** 0.5)\n",
    "\n",
    "\n",
    "hypotenuse(3, 4)"
   ]
  },
  {
   "cell_type": "code",
   "execution_count": 19,
   "metadata": {},
   "outputs": [
    {
     "name": "stdout",
     "output_type": "stream",
     "text": [
      "57\n"
     ]
    }
   ],
   "source": [
    "def add(a, b) :\n",
    "    print(a + b)\n",
    "\n",
    "\n",
    "add(25, 32)"
   ]
  },
  {
   "cell_type": "code",
   "execution_count": 19,
   "metadata": {},
   "outputs": [
    {
     "name": "stdout",
     "output_type": "stream",
     "text": [
      "483\n"
     ]
    }
   ],
   "source": [
    "def calculator(a, b, c) :\n",
    "    if c == \"+\":\n",
    "           print(a + b)\n",
    "    elif c == \"-\":\n",
    "        print(a - b)\n",
    "    elif c == \"/\":\n",
    "        print(a / b)\n",
    "    elif c == \"*\":\n",
    "        print(a * b)\n",
    "    else:\n",
    "        print(\"enter valid arguments\")\n",
    "    \n",
    "\n",
    "# a basic calculator\n",
    "calculator(int(input(\"first_num: \")), int(input(\"second_num: \")), input(\"operation (+, -, /, *) :\"))\n",
    "    \n",
    "\n"
   ]
  },
  {
   "cell_type": "code",
   "execution_count": 31,
   "metadata": {},
   "outputs": [
    {
     "data": {
      "text/plain": [
       "int"
      ]
     },
     "execution_count": 31,
     "metadata": {},
     "output_type": "execute_result"
    }
   ],
   "source": [
    "def summation(x, y) :\n",
    "    return x + y\n",
    "    \n",
    "\n",
    "\n",
    "type(summation(3, 5))  # return ile çıktı aldığımızda printten farkı çıktısının integer vs. olmasıdır. "
   ]
  },
  {
   "cell_type": "code",
   "execution_count": 30,
   "metadata": {},
   "outputs": [
    {
     "name": "stdout",
     "output_type": "stream",
     "text": [
      "8\n"
     ]
    },
    {
     "data": {
      "text/plain": [
       "NoneType"
      ]
     },
     "execution_count": 30,
     "metadata": {},
     "output_type": "execute_result"
    }
   ],
   "source": [
    "def summaa(x, y) :\n",
    "    print(x + y)\n",
    "\n",
    "\n",
    "type(summaa(3, 5))  # fonksiyonlarda print ile çıktı alırsak NoneType çıktı verir. "
   ]
  },
  {
   "cell_type": "code",
   "execution_count": 33,
   "metadata": {},
   "outputs": [
    {
     "name": "stdout",
     "output_type": "stream",
     "text": [
      "[<function first_func at 0x00000195E59CB640>, <function hypotenuse at 0x00000195E5F2CAF0>, <function add at 0x00000195E5F2D6C0>, <function calculator at 0x00000195E600C940>, <function summation at 0x00000195E600CE50>, <function summaa at 0x00000195E4404700>]\n"
     ]
    }
   ],
   "source": [
    "import types\n",
    "print([f for f in globals().values() if type(f) == types.FunctionType])"
   ]
  },
  {
   "cell_type": "code",
   "execution_count": 21,
   "metadata": {},
   "outputs": [
    {
     "data": {
      "text/plain": [
       "2"
      ]
     },
     "execution_count": 21,
     "metadata": {},
     "output_type": "execute_result"
    }
   ],
   "source": [
    "def absolute_value(a) :\n",
    "    \"\"\"returns absolute value of a number\"\"\"  # doc string\n",
    "    if a > 0:\n",
    "        return a\n",
    "    elif a < 0:\n",
    "        return (a * -1)\n",
    "\n",
    "\n",
    "absolute_value(2)\n"
   ]
  },
  {
   "cell_type": "code",
   "execution_count": 22,
   "metadata": {},
   "outputs": [
    {
     "name": "stdout",
     "output_type": "stream",
     "text": [
      "returns absolute value of a number\n",
      "Help on built-in function abs in module builtins:\n",
      "\n",
      "abs(x, /)\n",
      "    Return the absolute value of the argument.\n",
      "\n"
     ]
    }
   ],
   "source": [
    "print(absolute_value.__doc__)  # user defined mutlak değer fonksiyonu \n",
    "help(abs)  # built-in mutlakdeğer fonksiyonu"
   ]
  },
  {
   "cell_type": "code",
   "execution_count": 39,
   "metadata": {},
   "outputs": [
    {
     "name": "stdout",
     "output_type": "stream",
     "text": [
      "i love you\n"
     ]
    }
   ],
   "source": [
    "a = \"i\"\n",
    "b = \"love\"\n",
    "c = \"you\"\n",
    "\n",
    "\n",
    "def texter(x, y, z) :\n",
    "    print(y, z, x)\n",
    "\n",
    "\n",
    "texter(c, a, b)"
   ]
  },
  {
   "cell_type": "code",
   "execution_count": null,
   "metadata": {},
   "outputs": [],
   "source": []
  },
  {
   "cell_type": "code",
   "execution_count": null,
   "metadata": {},
   "outputs": [],
   "source": []
  }
 ],
 "metadata": {
  "interpreter": {
   "hash": "2be5faf79681da6f2a61fdfdd5405d65d042280f7fba6178067603e3a2925119"
  },
  "kernelspec": {
   "display_name": "Python 3.10.2 64-bit",
   "language": "python",
   "name": "python3"
  },
  "language_info": {
   "codemirror_mode": {
    "name": "ipython",
    "version": 3
   },
   "file_extension": ".py",
   "mimetype": "text/x-python",
   "name": "python",
   "nbconvert_exporter": "python",
   "pygments_lexer": "ipython3",
   "version": "3.10.2"
  },
  "orig_nbformat": 4
 },
 "nbformat": 4,
 "nbformat_minor": 2
}
