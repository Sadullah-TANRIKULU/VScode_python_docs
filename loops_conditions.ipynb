{
 "cells": [
  {
   "cell_type": "code",
   "execution_count": 2,
   "metadata": {},
   "outputs": [
    {
     "name": "stdout",
     "output_type": "stream",
     "text": [
      "is x equal to y?                 : False\n",
      "is x not equal to y?             : True\n",
      "is x less than y?                : True\n",
      "is x greater than y?             : False\n",
      "is x less than or equal to y?    : True\n",
      "is x greater than or equal to y? : False\n"
     ]
    }
   ],
   "source": [
    "x = 6\n",
    "y = 9\n",
    "print (\"is x equal to y?                 :\" , x == y)\n",
    "print (\"is x not equal to y?             :\" , x != y)\n",
    "print (\"is x less than y?                :\" , x < y)\n",
    "print (\"is x greater than y?             :\" , x > y)\n",
    "print (\"is x less than or equal to y?    :\" , x <= y)\n",
    "print (\"is x greater than or equal to y? :\" , x >= y)\n"
   ]
  },
  {
   "cell_type": "code",
   "execution_count": 3,
   "metadata": {},
   "outputs": [
    {
     "name": "stdout",
     "output_type": "stream",
     "text": [
      "The number is equal or greater than 10\n"
     ]
    }
   ],
   "source": [
    "number = 23\n",
    "\n",
    "if number >= 10:\n",
    "    print(\"The number is equal or greater than 10\")\n",
    "else :\n",
    "    print(\"The number is less than 10\")"
   ]
  },
  {
   "cell_type": "code",
   "execution_count": 8,
   "metadata": {},
   "outputs": [
    {
     "name": "stdout",
     "output_type": "stream",
     "text": [
      "Your degree: A+\n"
     ]
    }
   ],
   "source": [
    "score = int(input(\"Enter your score :\"))\n",
    "if score >= 90:\n",
    "    if score >= 95:\n",
    "        Score_letter=\"A+\"\n",
    "    else:\n",
    "        Score_letter=\"A\"\n",
    "elif score >= 80:  # else if\n",
    "    if score >= 85:\n",
    "        Score_letter=\"B+\"\n",
    "    else:\n",
    "        Score_letter=\"B\"\n",
    "else:\n",
    "    Score_letter=\"below B\"\n",
    "\n",
    "print (\"Your degree: %s\" % Score_letter)"
   ]
  },
  {
   "cell_type": "code",
   "execution_count": 14,
   "metadata": {},
   "outputs": [
    {
     "name": "stdout",
     "output_type": "stream",
     "text": [
      "0.0005\n"
     ]
    }
   ],
   "source": [
    "country = input(\"Your country for calculating tax, pls:\").title()\n",
    "city = input(\"Your city for calculating tax, pls:\").title()\n",
    "if country  == \"Türkiye\":\n",
    "    if city in (\"Denizli\", \"Aydın\", \"İzmir\"):  # conditions da ilk defa in kullandım.\n",
    "        tax = 0.05\n",
    "        print(tax)\n",
    "    elif city == \"İstanbul\":\n",
    "        tax = 0.19\n",
    "        print(tax)\n",
    "    else:\n",
    "        tax = 0.15\n",
    "        print(tax)\n",
    "else:\n",
    "    tax = 0.0005\n",
    "    print(tax)"
   ]
  },
  {
   "cell_type": "code",
   "execution_count": 12,
   "metadata": {},
   "outputs": [
    {
     "name": "stdout",
     "output_type": "stream",
     "text": [
      "0\n",
      "1\n",
      "2\n",
      "3\n",
      "4\n",
      "5\n",
      "6\n",
      "now, number is bigger or equal to 6\n"
     ]
    }
   ],
   "source": [
    "number = 0  # while loop\n",
    "\n",
    "while number <= 6:\n",
    "    print(number)\n",
    "    number += 1\n",
    "print('now, number is bigger or equal to 6')"
   ]
  },
  {
   "cell_type": "code",
   "execution_count": 21,
   "metadata": {},
   "outputs": [
    {
     "name": "stdout",
     "output_type": "stream",
     "text": [
      "Let's play the guessing game!(between 1 and 50)\n",
      "Little lower\n",
      "Little higher\n",
      "Are you a MINDREADER!!!\n"
     ]
    }
   ],
   "source": [
    "answer = 20\n",
    "chance = 5\n",
    "question = 'What number am I thinking of?  '\n",
    "print (\"Let's play the guessing game!(between 1 and 50)\")\n",
    "\n",
    "while True:\n",
    "    guess = int(input(question))\n",
    "    chance -= 1\n",
    "    if chance == 0:\n",
    "        print(\"Hakkınız bitti\")\n",
    "        break\n",
    "    if guess < answer:\n",
    "        print('Little higher')\n",
    "    elif guess > answer:\n",
    "        print('Little lower')\n",
    "    else:  # guess == answer\n",
    "        print('Are you a MINDREADER!!!')\n",
    "        break"
   ]
  },
  {
   "cell_type": "code",
   "execution_count": null,
   "metadata": {},
   "outputs": [],
   "source": []
  },
  {
   "cell_type": "code",
   "execution_count": 16,
   "metadata": {},
   "outputs": [
    {
     "name": "stdout",
     "output_type": "stream",
     "text": [
      "n1\n",
      "n2\n",
      "n3\n",
      "n2\n"
     ]
    }
   ],
   "source": [
    "dictionary = {'n1' : 1, 'n2' : 5, 'n3' :  3}\n",
    "for i in dictionary: print(i)  # sözlükte ya for ile ya da key = dict.get parametresiyle key words\n",
    "max_num = max(dictionary, key=dictionary.get)  # getirilebiliyor.\n",
    "print(max_num)"
   ]
  },
  {
   "cell_type": "code",
   "execution_count": 5,
   "metadata": {},
   "outputs": [
    {
     "name": "stdout",
     "output_type": "stream",
     "text": [
      "rock paper\n",
      "You lost\n"
     ]
    }
   ],
   "source": [
    "# Rock Paper Scissors Game\n",
    "import random\n",
    "\n",
    "rps = ['rock', 'paper', 'scissors']\n",
    "answer = input('Rock Paper Scissors ? ')\n",
    "answer = answer.lower()\n",
    "\n",
    "def rpsgame(a):\n",
    "    b = random.choice(rps)\n",
    "    if b == a:\n",
    "        print(a, b)\n",
    "        print('No winner')\n",
    "    elif b == 'rock' and a == 'paper':\n",
    "        print(a, b)\n",
    "        print('You win')\n",
    "    elif b == 'scissors' and a == 'rock':\n",
    "        print(a, b)\n",
    "        print('You win')\n",
    "    elif b == 'paper' and a == 'scissors':\n",
    "        print(a, b)\n",
    "        print('You win')\n",
    "    else:\n",
    "        print(a, b)\n",
    "        print('You lost')\n",
    "rpsgame(answer)"
   ]
  },
  {
   "cell_type": "markdown",
   "metadata": {},
   "source": [
    "Fill in the blanks to complete the program that prints all elements of the flowers list below each on separate lines such as :\n",
    "\n",
    "Rose\n",
    "Orchid\n",
    "Tulip\n",
    "Note: Use while loop."
   ]
  },
  {
   "cell_type": "code",
   "execution_count": 8,
   "metadata": {},
   "outputs": [
    {
     "name": "stdout",
     "output_type": "stream",
     "text": [
      "Rose\n",
      "Orchid\n",
      "Tulip\n"
     ]
    }
   ],
   "source": [
    "flowers = ['Rose', 'Orchid', 'Tulip']\n",
    "count = 0\n",
    "while len(flowers) > count :\n",
    "    print(flowers[count])\n",
    "    count += 1\n",
    "\n"
   ]
  },
  {
   "cell_type": "code",
   "execution_count": 10,
   "metadata": {},
   "outputs": [
    {
     "name": "stdout",
     "output_type": "stream",
     "text": [
      "spring\n",
      "summer\n",
      "autumn\n",
      "winter\n"
     ]
    }
   ],
   "source": [
    "seasons = ['spring', 'summer', 'autumn', 'winter']\n",
    "\n",
    "for i in seasons :\n",
    "    print(i)"
   ]
  },
  {
   "cell_type": "markdown",
   "metadata": {},
   "source": [
    "Write a program that prints square of each number of the iterable list below each on separate lines.\n",
    "\n",
    "Note: Use for loop with power (**) or multiplying (*) syntaxes.\n",
    "iterable = [1, 2, 3, 4]"
   ]
  },
  {
   "cell_type": "code",
   "execution_count": 19,
   "metadata": {},
   "outputs": [
    {
     "name": "stdout",
     "output_type": "stream",
     "text": [
      "1\n",
      "4\n",
      "9\n",
      "16\n"
     ]
    }
   ],
   "source": [
    "iterable = [1, 2, 3, 4]\n",
    "for i in iterable:\n",
    "    print(i**2)"
   ]
  },
  {
   "cell_type": "code",
   "execution_count": 31,
   "metadata": {},
   "outputs": [
    {
     "name": "stdout",
     "output_type": "stream",
     "text": [
      "I love you\n",
      "0\n",
      "I love you\n",
      "1\n",
      "I love you\n",
      "2\n"
     ]
    }
   ],
   "source": [
    "times = int(input(\"How many times should I say 'I love you'\"))\n",
    "\n",
    "for i in range(times):  # range(25)\n",
    "    print('I love you')\n",
    "    print(i)\n"
   ]
  },
  {
   "cell_type": "code",
   "execution_count": 32,
   "metadata": {},
   "outputs": [
    {
     "name": "stdout",
     "output_type": "stream",
     "text": [
      "('one', 1) ('two', 2) ('three', 3) ('four', 4) ('five', 5)\n",
      "one : 1\n",
      "two : 2\n",
      "three : 3\n",
      "four : 4\n",
      "five : 5\n"
     ]
    }
   ],
   "source": [
    "text = ['one','two','three','four','five']\n",
    "numbers = [1, 2, 3, 4, 5]\n",
    "print(*zip(text, numbers))  # we use starred expression to seperate the elements.\n",
    "for x, y in zip(text, numbers):\n",
    "    print(x, ':', y)"
   ]
  },
  {
   "cell_type": "code",
   "execution_count": 1,
   "metadata": {},
   "outputs": [
    {
     "name": "stdout",
     "output_type": "stream",
     "text": [
      "8x0 =  0\n",
      "8x1 =  8\n",
      "8x2 =  16\n",
      "8x3 =  24\n",
      "8x4 =  32\n",
      "8x5 =  40\n",
      "8x6 =  48\n",
      "8x7 =  56\n",
      "8x8 =  64\n",
      "8x9 =  72\n",
      "8x10 =  80\n"
     ]
    }
   ],
   "source": [
    "n = int(input('enter a number between 1-10'))\n",
    "\n",
    "for i in range(11):\n",
    "    print('{}x{} = '.format(n, i), n*i)"
   ]
  },
  {
   "cell_type": "markdown",
   "metadata": {},
   "source": [
    "Write the same code above by yourself but using 👉🏻% operator in print() function."
   ]
  },
  {
   "cell_type": "code",
   "execution_count": 4,
   "metadata": {},
   "outputs": [
    {
     "name": "stdout",
     "output_type": "stream",
     "text": [
      "2 x 0 = 0\n",
      "2 x 1 = 2\n",
      "2 x 2 = 4\n",
      "2 x 3 = 6\n",
      "2 x 4 = 8\n",
      "2 x 5 = 10\n",
      "2 x 6 = 12\n",
      "2 x 7 = 14\n",
      "2 x 8 = 16\n",
      "2 x 9 = 18\n",
      "2 x 10 = 20\n"
     ]
    }
   ],
   "source": [
    "n = int(input('enter a number between 1-10'))\n",
    "\n",
    "for i in range(11):\n",
    "    print(\"%d x %d = %d\" % (n,i, n*i))"
   ]
  },
  {
   "cell_type": "code",
   "execution_count": 5,
   "metadata": {},
   "outputs": [
    {
     "name": "stdout",
     "output_type": "stream",
     "text": [
      "range(0, 5)\n",
      "0 1 2 3 4\n"
     ]
    }
   ],
   "source": [
    "print(range(5))  # it will not print the numbers in sequence\n",
    "\n",
    "print(*range(5))  # '*' separates its elements\n"
   ]
  },
  {
   "cell_type": "code",
   "execution_count": 6,
   "metadata": {},
   "outputs": [
    {
     "name": "stdout",
     "output_type": "stream",
     "text": [
      "I will stop smoking\n",
      "I will stop smoking\n",
      "I will stop smoking\n",
      "I will stop smoking\n",
      "I will stop smoking\n"
     ]
    }
   ],
   "source": [
    "a = 3\n",
    "while a**2 < 299:\n",
    "    print('I will stop smoking')\n",
    "    a += 3"
   ]
  },
  {
   "cell_type": "markdown",
   "metadata": {},
   "source": [
    "Tom, a 13-year-old boy, wants to play with PlayStation-4. Since he couldn't afford it, he started to save money to reach the price of PS4 (variable ps4_price). Let's write a program to tell him how much time left before he can play with PS4. So write a simple code that gets the amount of money Tom saved and prints one of the three options below according to saved_amount :\n",
    "\n",
    "If saved_amount is less than or equal to ps4_price/2 then print : \"You must save more, keep saving!\"\n",
    "If saved_amount is greater than ps4_price/2 then print : \"You saved more than half, keep saving!\"\n",
    "If saved_amount is greater than ps4_price then print : \"Yippee! You can buy your PS4\"\n",
    "Note: Variable ps4_price is created for you. You can use it in your code without defining it."
   ]
  },
  {
   "cell_type": "code",
   "execution_count": 12,
   "metadata": {},
   "outputs": [
    {
     "name": "stdout",
     "output_type": "stream",
     "text": [
      "Yippee! You can buy your PS4\n"
     ]
    }
   ],
   "source": [
    "saved_amount = int(input('Please enter your saved amount: '))\n",
    "ps4_price = int(450) #  bu sayı pre class ta yazılmayacak\n",
    "\n",
    "if saved_amount > ps4_price:\n",
    "    print(\"Yippee! You can buy your PS4\")\n",
    "elif saved_amount > ps4_price/2:\n",
    "    print(\"You saved more than half, keep saving!\")\n",
    "elif saved_amount <= ps4_price/2:\n",
    "    print(\"You must save more, keep saving!\")\n",
    "\n",
    "\n",
    "\n",
    "\n"
   ]
  },
  {
   "cell_type": "markdown",
   "metadata": {},
   "source": [
    "Mrs Brown is a Math teacher. She wants to write a program that gets the numeric grades of her students, assigns them to variable math_mark and prints them as letter-based grades defined below:\n",
    "\n",
    "85-100 ➔ A (Excellent)\n",
    "70-84 ➔ B (Good)\n",
    "60-69 ➔ C (Medium)\n",
    "45-59 ➔ D (Not Bad)\n",
    "0-44 ➔ F (Failed)\n",
    "\n",
    "Write your program using if, elif and else statements."
   ]
  },
  {
   "cell_type": "code",
   "execution_count": 14,
   "metadata": {},
   "outputs": [
    {
     "name": "stdout",
     "output_type": "stream",
     "text": [
      "F(Failed)\n"
     ]
    }
   ],
   "source": [
    "math_mark = int(input('Please enter the mark: '))\n",
    "\n",
    "if 100 >= math_mark >= 85:\n",
    "    print(\"A (Excellent)\")\n",
    "elif 84 >= math_mark >= 70:\n",
    "    print(\"B (Good)\")\n",
    "elif 69 >= math_mark >= 60:\n",
    "    print(\"C (Medium)\")\n",
    "elif 59 >= math_mark >= 45:\n",
    "    print(\"D (Not Bad)\")\n",
    "elif 44 >= math_mark >= 0:\n",
    "    print(\"F (Failed)\")\n",
    "else:\n",
    "    print(\"invalid mark\")"
   ]
  },
  {
   "cell_type": "code",
   "execution_count": 26,
   "metadata": {},
   "outputs": [
    {
     "name": "stdout",
     "output_type": "stream",
     "text": [
      "0\n",
      "1\n",
      "4\n",
      "9\n",
      "16\n",
      "25\n",
      "36\n",
      "49\n",
      "64\n",
      "81\n"
     ]
    }
   ],
   "source": [
    "number = int(input('Please enter a number: '))\n",
    "i = 0\n",
    "\n",
    "while True:\n",
    "    if i in range(number):\n",
    "        print(i**2)\n",
    "        i += 1\n",
    "    else:\n",
    "        break"
   ]
  },
  {
   "cell_type": "markdown",
   "metadata": {},
   "source": [
    "Write a program that prints each item and its corresponding type from the following list.\n",
    "\n",
    "sample_list = [{\"section\":5, \"topic\":2}, 'clarusway', [1, 4], 2020, 3.14, 1+618j, False, (10, 20)]\n",
    "\n",
    "One of the output line as an example: The type of clarusway is <class 'str'>.\n",
    "\n",
    "Note: Write the program with for statement."
   ]
  },
  {
   "cell_type": "code",
   "execution_count": 19,
   "metadata": {},
   "outputs": [
    {
     "name": "stdout",
     "output_type": "stream",
     "text": [
      "The type of {'section': 5, 'topic': 2} is <class 'dict'>\n",
      "The type of clarusway is <class 'str'>\n",
      "The type of [1, 4] is <class 'list'>\n",
      "The type of 2020 is <class 'int'>\n",
      "The type of 3.14 is <class 'float'>\n",
      "The type of (1+618j) is <class 'complex'>\n",
      "The type of False is <class 'bool'>\n",
      "The type of (10, 20) is <class 'tuple'>\n"
     ]
    }
   ],
   "source": [
    "sample_list = [{\"section\":5, \"topic\":2}, 'clarusway', [1, 4], 2020, 3.14, 1+618j, False, (10, 20)]\n",
    "\n",
    "for i in sample_list:\n",
    "    print(f\"The type of {i} is {type(i)}\")\n"
   ]
  },
  {
   "cell_type": "markdown",
   "metadata": {},
   "source": [
    "Task : -Banka ATM programı(Basit seviye)-\n",
    "ATM de işlem yapmak istiyor musunuz? (evet veya hayır)\n",
    "evet ise\n",
    "1 para çekme(mevcut bakiyeden fazla para çekemez)\n",
    "2 para yatırma(100 bin liradan üstü için atmden işlem yapılamaz)\n",
    "3 hesap bilgileri(ad,soyadi,iban ve mevcut bakiye)\n",
    "4 kart iade\n",
    "kart iade denilmeden döngüden çıkılamaz\n",
    "hayır ise uğurlama"
   ]
  },
  {
   "cell_type": "code",
   "execution_count": 6,
   "metadata": {},
   "outputs": [
    {
     "name": "stdout",
     "output_type": "stream",
     "text": [
      "Welcome to State Bank of Turkey\n",
      "balance :  25000\n",
      "1-Withdraw\n",
      "2-Balance Enquiry\n",
      "3-Fast Cash\n",
      "4-Deposit\n",
      "Please take your amount: 12450\n",
      "12550\n"
     ]
    }
   ],
   "source": [
    "# ATM Program\n",
    "print(\"Welcome to State Bank of Turkey\")\n",
    "p = int(input(\"Enter your 4 digit pin number: \"))\n",
    "m = 25000\n",
    "if p == 1234:\n",
    "    print(\"balance : \", m)\n",
    "    print(\"1-Withdraw\")\n",
    "    print(\"2-Balance Enquiry\")\n",
    "    print(\"3-Fast Cash\")\n",
    "    print(\"4-Deposit\")\n",
    "    c = int(input(\"Please choose transactions: \"))\n",
    "    if c == 1:\n",
    "        w = int(input(\"Enter withdraw amount: \"))\n",
    "        if w < m and w % 10 == 0:                 # if altında başka if blokları yazabiliriz. \n",
    "            print(\"Please take your amount:\", w)\n",
    "            m -= w\n",
    "            print(m)\n",
    "        else:\n",
    "            print(\"Invalid cash\")\n",
    "\n",
    "    elif c == 2:\n",
    "        print(\"Your available amount : \", m)\n",
    "\n",
    "    elif c == 3:\n",
    "        print(\"1->5,000\")\n",
    "        print(\"2->10,000\")\n",
    "        print(\"3->15,000\")\n",
    "        print(\"4->20,000\")\n",
    "        f = int(input(\"Enter fast cash option: \"))\n",
    "        if f == 1 and 5000 < m:\n",
    "            print(\"please take cash 5000\")\n",
    "            m -= 5000\n",
    "            print(m)\n",
    "        elif f == 2 and 10000 < m:\n",
    "            print(\"please take cash 10000\")\n",
    "            m -= 10000\n",
    "            print(m)\n",
    "        elif f == 3 and 15000 < m:\n",
    "            print(\"please take cash 15000\")\n",
    "            m -= 15000\n",
    "            print(m)\n",
    "        elif f == 4 and 20000 < m:\n",
    "            print(\"please take cash 20000\")\n",
    "            m -= 20000\n",
    "            print(m)\n",
    "        else:\n",
    "            print(\"Invalid fast cash option\")\n",
    "    elif c == 4:\n",
    "        g = int(input(\"Enter deposit amount:\"))\n",
    "        if g > 100000:\n",
    "            print(\"You can't deposit bigger than 100000\")\n",
    "        else:\n",
    "            print(\"Deposited amount\", g)\n",
    "            m += g\n",
    "            print(m)\n",
    "    else:\n",
    "        print(\"Wrong choice\")\n",
    "else:\n",
    "    print(\"Wrong pin number\")"
   ]
  },
  {
   "cell_type": "code",
   "execution_count": 6,
   "metadata": {},
   "outputs": [
    {
     "name": "stdout",
     "output_type": "stream",
     "text": [
      "Merhaba Veli Cam\n",
      "Güncel bakiyeniz: 3100, Güncel ek Hesabınız: 2000\n",
      "Bizi tercih ettiğiniz için teşekkür ederiz. İyi günler dileriz.\n"
     ]
    }
   ],
   "source": [
    "# Bankamatik Uygulaması\n",
    "\n",
    "hesaplar = {\n",
    "    '1'  : {\n",
    "         'ad' : 'Veli Cam',\n",
    "         'sifre' : '321',\n",
    "         'hesap_no' : '1',\n",
    "         \"bakiye\" : 3000,\n",
    "         'ek_hesap' : 2000,\n",
    "         'max_ek_hesap' : 2000\n",
    "                  },\n",
    "    '2'  : {\n",
    "         'ad' : 'Ali Cam',\n",
    "         'sifre' : '123',\n",
    "         'hesap_no' : '2',\n",
    "         'bakiye' : 2000,\n",
    "         'ek_hesap' : 1000,\n",
    "         'max_ek_hesap' : 1000\n",
    "}}\n",
    "\n",
    "def para_cek(hesap, miktar):\n",
    "    if miktar <= hesaplar[hesap]['bakiye']:\n",
    "        print(\"Paranızı alabilirsiniz.\")\n",
    "        hesaplar[hesap]['bakiye'] -= miktar\n",
    "    else:\n",
    "        toplam = hesaplar[hesap]['bakiye'] + hesaplar[hesap]['ek_hesap']\n",
    "        if toplam >= miktar:\n",
    "            ek_hsp = input(f\"Bakiyeniz yetersiz ek hesap kullanmak istermisiniz?(e/h)\\\n",
    "Ek hesap dahil çekebileceğiniz max tutar: {toplam}\")\n",
    "            if ek_hsp == \"e\":\n",
    "                print(\"Paranızı alabilirsiniz.\")\n",
    "                kalan_ek = hesaplar[hesap]['ek_hesap'] - (miktar - hesaplar[hesap]['bakiye'])\n",
    "                hesaplar[hesap]['bakiye'] = 0\n",
    "                hesaplar[hesap]['ek_hesap']= kalan_ek\n",
    "            elif ek_hsp == \"h\":\n",
    "                print(f\"{hesaplar[hesap]['hesapNo']} nolu hesabınızda {hesaplar[hesap]['bakiye']} bakiye bulunmaktadır.\")\n",
    "            else:\n",
    "                print(\"Yanlış bir işlem yaptınız.\")\n",
    "        else:\n",
    "            print(\"Üzgünüz, bakiyeniz yetersiz. \")\n",
    "    \n",
    "    print(f\"Güncel Bakiyeniz: {hesaplar[hesap]['bakiye']}, Güncel Ek Hesabınız: {hesaplar[hesap]['ek_hesap']}\")\n",
    "    devam_mi(hesap)\n",
    "    \n",
    "def para_yatir(hesap, miktar):\n",
    "    for i in range(1, len(hesaplar) + 1):\n",
    "        if hesaplar[str(i)]['hesap_no'] == hesap:\n",
    "            if hesaplar[str(i)]['ek_hesap'] <= hesaplar[str(i)]['max_ek_hesap']:\n",
    "                if miktar >= (hesaplar[str(i)]['max_ek_hesap'] - hesaplar[str(i)]['ek_hesap']):\n",
    "                    ana = miktar - (hesaplar[str(i)]['max_ek_hesap'] - hesaplar[str(i)]['ek_hesap'])\n",
    "                    hesaplar[str(i)]['bakiye'] += ana\n",
    "                    hesaplar[str(i)]['ek_hesap'] = hesaplar[str(i)]['max_ek_hesap']\n",
    "                elif miktar <= (hesaplar[str(i)]['max_ek_hesap'] - hesaplar[str(i)]['ek_hesap']):\n",
    "                    hesaplar[str(i)]['ek_hesap'] += miktar\n",
    "                print(f\"Güncel bakiyeniz: {hesaplar[hesap]['bakiye']}, Güncel ek Hesabınız: {hesaplar[hesap]['ek_hesap']}\")\n",
    "            elif hesaplar[str(i)]['ek_hesap'] == hesaplar[str(i)]['max_ek_hesap']:\n",
    "                hesaplar[str(i)]['bakiye'] += miktar\n",
    "                print(f\"Güncel bakiyeniz: {hesaplar[hesap]['bakiye']}, Güncel ek Hesabınız: {hesaplar[hesap]['ek_hesap']}\")\n",
    "    devam_mi(hesap)\n",
    "    \n",
    "def hesap_sorgu(hesap):\n",
    "    for i in range(1, len(hesaplar) + 1):\n",
    "        if hesaplar[str(i)]['hesap_no'] == hesap:\n",
    "            print(f\"Merhaba {hesaplar[str(i)]['ad']}\")\n",
    "            sifre = input(f\"Lütfen şifrenizi giriniz:\")\n",
    "            sifre_sorgu(sifre)\n",
    "            break\n",
    "        elif i == len(hesaplar) + 1 : \n",
    "            print(\"Yanlış hesap numarasını girdiniz.\")\n",
    "            break\n",
    "            \n",
    "def sifre_sorgu(sifre):\n",
    "    for i in range(1, len(hesaplar) + 1):\n",
    "        if hesaplar[str(i)]['sifre'] == sifre:\n",
    "            musteri = str(i)\n",
    "            menu(musteri)\n",
    "            break\n",
    "        elif i == len(hesaplar) + 1 :\n",
    "            print(\"Yanlış şifre girdiniz.\")\n",
    "            break\n",
    "\n",
    "def menu(musteri):\n",
    "    secim = (input(f\"Para çekmek için 1 i para yatırmak için 2 yi tuşlayın\"))\n",
    "    if secim == \"1\":\n",
    "        tutar = int(input(\"Çekmek istediğiniz tutarı giriniz: \"))\n",
    "        para_cek(musteri, tutar)\n",
    "        \n",
    "    elif secim == \"2\":\n",
    "        yatir = int(input(\"Yatırmak istediğiniz tutarı giriniz: \"))\n",
    "        para_yatir(musteri, yatir)\n",
    "        \n",
    "    else:\n",
    "        print(\"Yanlış seçim yaptınız.\")\n",
    "\n",
    "def devam_mi(sorgu):\n",
    "    while True:\n",
    "        x = (input('Devam etmek için Evet giriniz. Çıkmak için herhangi birşey yazınız.')).capitalize()\n",
    "        if x == 'Evet':\n",
    "            menu(sorgu)\n",
    "        else:\n",
    "            print(\"Bizi tercih ettiğiniz için teşekkür ederiz. İyi günler dileriz.\")\n",
    "            break\n",
    "            \n",
    "sorgu = input(\"Lütfen hesap numaranızı giriniz: \")\n",
    "hesap_sorgu(sorgu)"
   ]
  },
  {
   "cell_type": "markdown",
   "metadata": {},
   "source": [
    "Task:\n",
    "\n",
    "Find out if a given number is an \"Armstrong Number\".\n",
    "\n",
    "An n-digit number that is the sum of the nth powers of its digits is called an n-Armstrong number. Examples :\n",
    "371 = 3**3 + 7**3 + 1**3;\n",
    "9474 = 9**4 + 4**4 + 7**4 + 4**4;\n",
    "93084 = 9**5 + 3**5 + 0**5 + 8**5 + 4**5.\n",
    "\n",
    "Write a Python program that;\n",
    "takes a positive integer number from the user,\n",
    "checks the entered number if it is Armstrong,\n",
    "consider the negative, float and any entries other than numeric values then display a warning message to the user."
   ]
  },
  {
   "cell_type": "code",
   "execution_count": 1,
   "metadata": {},
   "outputs": [
    {
     "name": "stdout",
     "output_type": "stream",
     "text": [
      "Not supported type! pls input a positive integer!\n"
     ]
    }
   ],
   "source": [
    "number = input(\"is it an Armstrong number, try it!:\")\n",
    "\n",
    "\n",
    "if int(number) == (float(number) or -abs(number)):\n",
    "    print(\"Not supported type! pls input a positive integer!\")\n",
    "else:\n",
    "    print(\"Your number type is integer and this process continues\")\n"
   ]
  },
  {
   "cell_type": "code",
   "execution_count": 5,
   "metadata": {},
   "outputs": [
    {
     "name": "stdout",
     "output_type": "stream",
     "text": [
      "1828 is not armstrong number\n"
     ]
    }
   ],
   "source": [
    "# armstrong number assignment\n",
    "number = (input(\"write a positive integer number\"))\n",
    "\n",
    "if not number.isdecimal():\n",
    "    print(\"please write a positive integer, not float or negative etc.\")\n",
    "\n",
    "else:\n",
    "    total = 0\n",
    "    for digit in number:\n",
    "        total += int(digit) ** len(number)\n",
    "\n",
    "    if total == int(number):\n",
    "        print( number, \"is armstrong number\")\n",
    "    else:\n",
    "        print( number, \"is not armstrong number\")"
   ]
  },
  {
   "cell_type": "code",
   "execution_count": 2,
   "metadata": {},
   "outputs": [
    {
     "name": "stdout",
     "output_type": "stream",
     "text": [
      "2544448885699955478 It is NOT an Armstrong number.\n"
     ]
    }
   ],
   "source": [
    "numberee = input(\"Is this an Armstrong number? Pls try it!:\")\n",
    "\n",
    "if not numberee.isdecimal():  # isdecimal ile positive integer olmasını sağladık. \n",
    "    print(\"Pls, input a positive integer, not float or negative. \")\n",
    "else:\n",
    "    str_digitee = str(numberee)\n",
    "    sumee = 0\n",
    "    for i in str_digitee:\n",
    "        digitee = (int(i)**len(str_digitee))\n",
    "        sumee += digitee\n",
    "    if sumee == int(numberee):\n",
    "        print(numberee, \"It is an Armstrong number.\")\n",
    "    else:\n",
    "        print(numberee, \"It is NOT an Armstrong number.\")"
   ]
  },
  {
   "cell_type": "code",
   "execution_count": 10,
   "metadata": {},
   "outputs": [
    {
     "name": "stdout",
     "output_type": "stream",
     "text": [
      "odd\n"
     ]
    }
   ],
   "source": [
    "number = int(input(\"number\"))\n",
    "if number % 2 == 0:\n",
    "    print(\"even\")\n",
    "else:\n",
    "    print(\"odd\")\n"
   ]
  },
  {
   "cell_type": "code",
   "execution_count": 2,
   "metadata": {},
   "outputs": [
    {
     "name": "stdout",
     "output_type": "stream",
     "text": [
      "The larger number is 11\n"
     ]
    }
   ],
   "source": [
    "num1, num2 = input(\"number\").split(\",\")\n",
    "\n",
    "if int(num1) > int(num2):\n",
    "    larger = num1\n",
    "else:\n",
    "    larger = num2\n",
    "print(\"The larger number is\", larger)"
   ]
  },
  {
   "cell_type": "code",
   "execution_count": 16,
   "metadata": {},
   "outputs": [
    {
     "name": "stdout",
     "output_type": "stream",
     "text": [
      "Yes\n"
     ]
    }
   ],
   "source": [
    "bool_value = True\n",
    "\n",
    "if bool_value:   # if blockunda bool çalışır.\n",
    "    print(\"Yes\")\n",
    "else:\n",
    "    print(\"No\")\n"
   ]
  },
  {
   "cell_type": "code",
   "execution_count": 1,
   "metadata": {},
   "outputs": [
    {
     "name": "stdout",
     "output_type": "stream",
     "text": [
      "The largest number 3\n"
     ]
    }
   ],
   "source": [
    "n1, n2, n3 = input(\"number\").split(\",\")\n",
    "\n",
    "if n1 > n2 and n1 > n3:\n",
    "    largest = int(n1)\n",
    "elif n2 > n1 and n2 > n3:\n",
    "    largest = int(n2)\n",
    "else:\n",
    "    largest = int(n3)\n",
    "\n",
    "print(\"The largest number\", largest)"
   ]
  },
  {
   "cell_type": "markdown",
   "metadata": {},
   "source": [
    "Task : Kullanıcının girdiği input değer istenen türün veya aralığın dışındaysa tekrar input istenmesini sağlayan bir kod yazın."
   ]
  },
  {
   "cell_type": "code",
   "execution_count": 24,
   "metadata": {},
   "outputs": [
    {
     "name": "stdout",
     "output_type": "stream",
     "text": [
      "87\n"
     ]
    }
   ],
   "source": [
    "while True:\n",
    "    ilk_sayı = input(\"ilk sayı: \")\n",
    "\n",
    "    try:\n",
    "        sayı1 = int(ilk_sayı)\n",
    "        print(sayı1)\n",
    "        break\n",
    "    except (ValueError, ZeroDivisionError):\n",
    "       ilk_sayı =input(\"lütfen integer giriniz:\")\n",
    "       print(ilk_sayı)\n",
    "       break"
   ]
  },
  {
   "cell_type": "code",
   "execution_count": 39,
   "metadata": {},
   "outputs": [
    {
     "name": "stdout",
     "output_type": "stream",
     "text": [
      "4\n",
      "3\n",
      "2\n",
      "1\n",
      "0\n"
     ]
    }
   ],
   "source": [
    "condition = 5\n",
    "while True:\n",
    "    \n",
    "    print(condition)\n",
    "    condition -= 1\n",
    "    \n",
    "\n",
    "    if condition == 0:\n",
    "        break\n"
   ]
  },
  {
   "cell_type": "code",
   "execution_count": 25,
   "metadata": {},
   "outputs": [
    {
     "name": "stdout",
     "output_type": "stream",
     "text": [
      "89 is a tidy number.\n"
     ]
    }
   ],
   "source": [
    "# Kullanıcının girdiği sayının TIDY NUMBER olup olmadığını bulan kod:\n",
    "num = input(\"please enter a number :\")\n",
    "\n",
    "num_list = list(num)\n",
    "new_list = []\n",
    "n = 0\n",
    "\n",
    "while n < len(num_list)-1:\n",
    "    \n",
    "  new_list.append(num_list[n+1] >= num_list[n])  # burada True, False listesi oluşturuluyor. \n",
    "  n += 1\n",
    "\n",
    "if False in new_list:\n",
    "  print(f\"{num} is not a tidy number.\")\n",
    "else:\n",
    "  print(f\"{num} is a tidy number.\")"
   ]
  },
  {
   "cell_type": "code",
   "execution_count": 1,
   "metadata": {},
   "outputs": [
    {
     "name": "stdout",
     "output_type": "stream",
     "text": [
      "You entered incorrectly!\n",
      "Great! You entered valid input.\n"
     ]
    }
   ],
   "source": [
    "age = input(\"Enter your age?\")\n",
    "\n",
    "while not age.isdigit() :\n",
    "    \n",
    "    print(\"You entered incorrectly!\")\n",
    "    \n",
    "    age = input(\"Enter your age please :\")\n",
    "    \n",
    "print(\"Great! You entered valid input.\")\n",
    "    \n",
    "\n"
   ]
  },
  {
   "cell_type": "code",
   "execution_count": 5,
   "metadata": {},
   "outputs": [
    {
     "name": "stdout",
     "output_type": "stream",
     "text": [
      "little lower pls\n",
      "little lower pls\n",
      "little lower pls\n",
      "little higher pls\n",
      "little higher pls\n",
      "little higher pls\n",
      "little higher pls\n",
      "little higher pls\n",
      "hit the point, congrats\n"
     ]
    }
   ],
   "source": [
    "goal_num = 25\n",
    "while True:\n",
    "    guess_num = int(input(\"a number: \"))\n",
    "\n",
    "    if guess_num < goal_num:\n",
    "        print(\"little higher pls\")\n",
    "    elif guess_num > goal_num:\n",
    "        print(\"little lower pls\")\n",
    "    else:\n",
    "        print(\"hit the point, congrats\")\n",
    "        break\n"
   ]
  },
  {
   "cell_type": "code",
   "execution_count": 1,
   "metadata": {},
   "outputs": [
    {
     "name": "stdout",
     "output_type": "stream",
     "text": [
      "sen bi de bana sor\n",
      "4\n"
     ]
    }
   ],
   "source": [
    "sentence = input(\"gimme the sentence\")\n",
    "print(sentence)\n",
    "words_list = list(sentence.split())\n",
    "while True:\n",
    "    print(len(max(words_list, key=len)))\n",
    "    break\n"
   ]
  },
  {
   "cell_type": "code",
   "execution_count": 14,
   "metadata": {},
   "outputs": [
    {
     "name": "stdout",
     "output_type": "stream",
     "text": [
      "consider it done!\n",
      "The length of the longest word :  8\n"
     ]
    }
   ],
   "source": [
    "sentence = input(\"Gimme a sentence. : \")\n",
    "print(sentence)\n",
    "\n",
    "word_list = sentence.split()\n",
    "\n",
    "longest = 0\n",
    "i = 0\n",
    "\n",
    "while i < len(word_list) :\n",
    "    \n",
    "    if len(word_list[i]) > longest :\n",
    "        longest = len(word_list[i])\n",
    "        \n",
    "    i += 1\n",
    "    \n",
    "print(\"The length of the longest word : \", longest)\n",
    "\n"
   ]
  },
  {
   "cell_type": "code",
   "execution_count": 15,
   "metadata": {},
   "outputs": [
    {
     "name": "stdout",
     "output_type": "stream",
     "text": [
      "hello ahmet\n",
      "hello ayşe\n",
      "hello adam\n",
      "hello joseph\n",
      "hello gabriel\n"
     ]
    }
   ],
   "source": [
    "names = [\"ahmet\", \"ayşe\", \"adam\", \"joseph\", \"gabriel\"]\n",
    "for i in names:\n",
    "    i = \"hello \" + i\n",
    "    print(i)"
   ]
  },
  {
   "cell_type": "code",
   "execution_count": 19,
   "metadata": {},
   "outputs": [
    {
     "name": "stdout",
     "output_type": "stream",
     "text": [
      "[1, 2, 3, 4, 5]\n"
     ]
    }
   ],
   "source": [
    "k = []\n",
    "for i in range(1, 6):\n",
    "    k.append(i)\n",
    "print(k)"
   ]
  },
  {
   "cell_type": "code",
   "execution_count": 30,
   "metadata": {},
   "outputs": [
    {
     "name": "stdout",
     "output_type": "stream",
     "text": [
      "c-l-a-r-u-s-w-a-y"
     ]
    }
   ],
   "source": [
    "word = input(\"gimme a word\")\n",
    "counter = 0\n",
    "for i in word:\n",
    "    counter += 1\n",
    "    if counter < len(word):\n",
    "        i += \"-\"\n",
    "    print(i, end = \"\")\n",
    "    "
   ]
  },
  {
   "cell_type": "code",
   "execution_count": 1,
   "metadata": {},
   "outputs": [
    {
     "name": "stdout",
     "output_type": "stream",
     "text": [
      "hello\n",
      "hello\n",
      "hello\n"
     ]
    }
   ],
   "source": [
    "for i in \"abc\":\n",
    "    print(\"hello\")"
   ]
  },
  {
   "cell_type": "code",
   "execution_count": 2,
   "metadata": {},
   "outputs": [
    {
     "name": "stdout",
     "output_type": "stream",
     "text": [
      "1 2\n",
      "3 4\n",
      "5 6\n"
     ]
    }
   ],
   "source": [
    "test = [(1, 2), (3, 4), (5, 6)]\n",
    "for i, j in test:\n",
    "    print(i, j)"
   ]
  },
  {
   "cell_type": "code",
   "execution_count": 6,
   "metadata": {},
   "outputs": [
    {
     "name": "stdout",
     "output_type": "stream",
     "text": [
      "1 2\n",
      "3 4\n",
      "5 6\n"
     ]
    }
   ],
   "source": [
    "test2 = [(1, 2, 11), (3, 4, 22), (5, 6, 33)]\n",
    "for i, j, t in test2:\n",
    "    print(i, j, )"
   ]
  },
  {
   "cell_type": "code",
   "execution_count": 8,
   "metadata": {},
   "outputs": [
    {
     "name": "stdout",
     "output_type": "stream",
     "text": [
      "5 X 0 = 0 \n",
      "5 X 1 = 5 \n",
      "5 X 2 = 10 \n",
      "5 X 3 = 15 \n",
      "5 X 4 = 20 \n",
      "5 X 5 = 25 \n",
      "5 X 6 = 30 \n",
      "5 X 7 = 35 \n",
      "5 X 8 = 40 \n",
      "5 X 9 = 45 \n",
      "5 X 10 = 50 \n"
     ]
    }
   ],
   "source": [
    "num = int(input())\n",
    "for i in range(0, 11):\n",
    "    print(\"{} X {} = {} \".format(num, i, num*i))"
   ]
  },
  {
   "cell_type": "code",
   "execution_count": 11,
   "metadata": {},
   "outputs": [
    {
     "name": "stdout",
     "output_type": "stream",
     "text": [
      "1\n",
      "22\n",
      "333\n",
      "4444\n",
      "55555\n",
      "666666\n",
      "7777777\n",
      "88888888\n",
      "999999999\n",
      "999999999\n",
      "88888888\n",
      "7777777\n",
      "666666\n",
      "55555\n",
      "4444\n",
      "333\n",
      "22\n",
      "1\n"
     ]
    }
   ],
   "source": [
    "for i in range(1, 10):\n",
    "    print(i*str(i))\n",
    "for j in range(9, 0, -1):\n",
    "    print(j*str(j))"
   ]
  },
  {
   "cell_type": "code",
   "execution_count": 13,
   "metadata": {},
   "outputs": [
    {
     "name": "stdout",
     "output_type": "stream",
     "text": [
      "(1, 4, 7) (2, 5, 8)\n"
     ]
    }
   ],
   "source": [
    "a = [1, 2, 3]\n",
    "b = [4, 5]\n",
    "c = [7, 8, 9, 10]\n",
    "print(*zip(a, b, c))"
   ]
  },
  {
   "cell_type": "code",
   "execution_count": 18,
   "metadata": {},
   "outputs": [
    {
     "name": "stdout",
     "output_type": "stream",
     "text": [
      "[0, 2, 4, 6, 8, 10]\n",
      "[1, 3, 5, 7, 9]\n"
     ]
    }
   ],
   "source": [
    "even = []\n",
    "odd = []\n",
    "for i in range(0, 11, 2):\n",
    "    even.append(i)\n",
    "print(even)\n",
    "for j in range(1, 10, 2):\n",
    "    odd.append(j)\n",
    "print(odd)\n"
   ]
  },
  {
   "cell_type": "code",
   "execution_count": 20,
   "metadata": {},
   "outputs": [
    {
     "name": "stdout",
     "output_type": "stream",
     "text": [
      "odds:  [0, 2, 4, 6, 8, 10]\n",
      "evens: [1, 3, 5, 7, 9]\n"
     ]
    }
   ],
   "source": [
    "print(\"odds: \", list(range(0,11,2)))\n",
    "print(\"evens:\", list(range(1,10,2)))"
   ]
  },
  {
   "cell_type": "code",
   "execution_count": 24,
   "metadata": {},
   "outputs": [
    {
     "name": "stdout",
     "output_type": "stream",
     "text": [
      "3\n",
      "4\n"
     ]
    }
   ],
   "source": [
    "exmp_list = [11, 2, 24, 61, 48, 33, 3]\n",
    "liste = []\n",
    "liste1 = []\n",
    "for i in exmp_list:\n",
    "    if i % 2 == 0:\n",
    "        liste.append(i)\n",
    "    else:\n",
    "        liste1.append(i)\n",
    "print(len(liste))\n",
    "print(len(liste1))"
   ]
  },
  {
   "cell_type": "code",
   "execution_count": 27,
   "metadata": {},
   "outputs": [
    {
     "name": "stdout",
     "output_type": "stream",
     "text": [
      "3\n",
      "4\n"
     ]
    }
   ],
   "source": [
    "evens_count = 0\n",
    "odds_count = 0\n",
    "for i in exmp_list:\n",
    "    if i % 2 == 0:\n",
    "        evens_count += 1\n",
    "    else:\n",
    "        odds_count += 1\n",
    "print(evens_count)\n",
    "print(odds_count)"
   ]
  },
  {
   "cell_type": "code",
   "execution_count": 32,
   "metadata": {},
   "outputs": [
    {
     "name": "stdout",
     "output_type": "stream",
     "text": [
      "2775\n"
     ]
    }
   ],
   "source": [
    "countee = 0\n",
    "for i in range(0, 75):\n",
    "    countee += i\n",
    "    # print(i)\n",
    "print(countee)"
   ]
  },
  {
   "cell_type": "code",
   "execution_count": 37,
   "metadata": {},
   "outputs": [
    {
     "name": "stdout",
     "output_type": "stream",
     "text": [
      "susan is happy\n",
      "susan is sad\n",
      "tom is happy\n",
      "tom is sad\n",
      "edward is happy\n",
      "edward is sad\n"
     ]
    }
   ],
   "source": [
    "names = [\"susan\", \"tom\", \"edward\"]\n",
    "mood = [\"happy\", \"sad\"]\n",
    "for i in names:\n",
    "    for j in mood:\n",
    "        print(i + \" is \" + j)"
   ]
  },
  {
   "cell_type": "code",
   "execution_count": 38,
   "metadata": {},
   "outputs": [],
   "source": [
    "mon, tue, wed, thu, fri, sat, sun = tuple(range(1, 8))"
   ]
  },
  {
   "cell_type": "code",
   "execution_count": 39,
   "metadata": {},
   "outputs": [
    {
     "data": {
      "text/plain": [
       "1"
      ]
     },
     "execution_count": 39,
     "metadata": {},
     "output_type": "execute_result"
    }
   ],
   "source": [
    "mon # unpacking tuple"
   ]
  },
  {
   "cell_type": "code",
   "execution_count": 41,
   "metadata": {},
   "outputs": [
    {
     "name": "stdout",
     "output_type": "stream",
     "text": [
      "10\n",
      "30\n"
     ]
    }
   ],
   "source": [
    "a, _, b, _ = [10, 20, 30, 40]  # place holder\n",
    "print(a)\n",
    "print(b)"
   ]
  },
  {
   "cell_type": "code",
   "execution_count": 42,
   "metadata": {},
   "outputs": [
    {
     "name": "stdout",
     "output_type": "stream",
     "text": [
      "11\n",
      "22\n",
      "[33, 44, 55, 66]\n"
     ]
    }
   ],
   "source": [
    "x, y, *z = (11, 22, 33, 44, 55, 66)\n",
    "print(x)\n",
    "print(y)\n",
    "print(z)  # tuple liste olarak çıktı. "
   ]
  },
  {
   "cell_type": "code",
   "execution_count": 44,
   "metadata": {},
   "outputs": [
    {
     "name": "stdout",
     "output_type": "stream",
     "text": [
      "11\n",
      "22\n",
      "[33, 44, 55, 66, 77, 88]\n",
      "99\n"
     ]
    }
   ],
   "source": [
    "x, y, *_, t = (11, 22, 33, 44, 55, 66, 77, 88, 99)\n",
    "print(x)\n",
    "print(y)\n",
    "print(_)  # hafızada yer kaplamasın diye place holder kullandık.  \n",
    "print(t) "
   ]
  },
  {
   "cell_type": "code",
   "execution_count": 1,
   "metadata": {},
   "outputs": [
    {
     "name": "stdout",
     "output_type": "stream",
     "text": [
      "1\n",
      "1 2\n",
      "1 2 3\n",
      "1 2 3 4\n",
      "1 2 3 4 5\n"
     ]
    }
   ],
   "source": [
    "number = range(1, 6)\n",
    "i = -1\n",
    "for i in number:\n",
    "    print(*number[:i])\n",
    "    i += 1"
   ]
  },
  {
   "cell_type": "code",
   "execution_count": 16,
   "metadata": {},
   "outputs": [
    {
     "name": "stdout",
     "output_type": "stream",
     "text": [
      "<class 'int'>\n",
      "0\n",
      "<class 'int'>\n",
      "2\n",
      "<class 'int'>\n",
      "4\n",
      "<class 'int'>\n",
      "6\n",
      "<class 'int'>\n",
      "8\n",
      "<class 'int'>\n",
      "10\n"
     ]
    }
   ],
   "source": [
    "n = 5\n",
    "start = 2\n",
    "sum = 0\n",
    "for i in range(0, n+1):\n",
    "    a = int(str(start))*i\n",
    "    print(type(a))\n",
    "    print(a)\n",
    "    int(a)\n",
    "    sum += a"
   ]
  },
  {
   "cell_type": "code",
   "execution_count": 7,
   "metadata": {},
   "outputs": [
    {
     "data": {
      "text/plain": [
       "5"
      ]
     },
     "execution_count": 7,
     "metadata": {},
     "output_type": "execute_result"
    }
   ],
   "source": [
    "var_int = \"5\"\n",
    "int(var_int)"
   ]
  },
  {
   "cell_type": "code",
   "execution_count": null,
   "metadata": {},
   "outputs": [],
   "source": []
  },
  {
   "cell_type": "code",
   "execution_count": null,
   "metadata": {},
   "outputs": [],
   "source": []
  },
  {
   "cell_type": "code",
   "execution_count": null,
   "metadata": {},
   "outputs": [],
   "source": []
  },
  {
   "cell_type": "code",
   "execution_count": null,
   "metadata": {},
   "outputs": [],
   "source": []
  },
  {
   "cell_type": "code",
   "execution_count": null,
   "metadata": {},
   "outputs": [],
   "source": []
  },
  {
   "cell_type": "code",
   "execution_count": null,
   "metadata": {},
   "outputs": [],
   "source": []
  },
  {
   "cell_type": "code",
   "execution_count": null,
   "metadata": {},
   "outputs": [],
   "source": []
  },
  {
   "cell_type": "code",
   "execution_count": null,
   "metadata": {},
   "outputs": [],
   "source": []
  },
  {
   "cell_type": "code",
   "execution_count": null,
   "metadata": {},
   "outputs": [],
   "source": []
  },
  {
   "cell_type": "code",
   "execution_count": null,
   "metadata": {},
   "outputs": [],
   "source": []
  },
  {
   "cell_type": "code",
   "execution_count": null,
   "metadata": {},
   "outputs": [],
   "source": []
  },
  {
   "cell_type": "code",
   "execution_count": null,
   "metadata": {},
   "outputs": [],
   "source": []
  },
  {
   "cell_type": "code",
   "execution_count": null,
   "metadata": {},
   "outputs": [],
   "source": []
  }
 ],
 "metadata": {
  "interpreter": {
   "hash": "8f4a6391e1b416e87673bf8c434effa0344087e493d9d0bc28a0b378216aa186"
  },
  "kernelspec": {
   "display_name": "Python 3.10.2 64-bit",
   "language": "python",
   "name": "python3"
  },
  "language_info": {
   "codemirror_mode": {
    "name": "ipython",
    "version": 3
   },
   "file_extension": ".py",
   "mimetype": "text/x-python",
   "name": "python",
   "nbconvert_exporter": "python",
   "pygments_lexer": "ipython3",
   "version": "3.10.2"
  },
  "orig_nbformat": 4
 },
 "nbformat": 4,
 "nbformat_minor": 2
}
