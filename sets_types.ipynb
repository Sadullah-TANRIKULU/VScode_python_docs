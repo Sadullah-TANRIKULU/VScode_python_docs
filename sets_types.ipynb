{
 "cells": [
  {
   "cell_type": "code",
   "execution_count": 1,
   "metadata": {},
   "outputs": [
    {
     "data": {
      "text/plain": [
       "dict"
      ]
     },
     "execution_count": 1,
     "metadata": {},
     "output_type": "execute_result"
    }
   ],
   "source": [
    "empty_set = {}  # we have to use set() function!\n",
    "type(empty_set)"
   ]
  },
  {
   "cell_type": "code",
   "execution_count": 4,
   "metadata": {},
   "outputs": [
    {
     "name": "stdout",
     "output_type": "stream",
     "text": [
      "<class 'set'>\n"
     ]
    }
   ],
   "source": [
    "new_set = set()\n",
    "print(type(new_set))"
   ]
  },
  {
   "cell_type": "code",
   "execution_count": 8,
   "metadata": {},
   "outputs": [
    {
     "name": "stdout",
     "output_type": "stream",
     "text": [
      "{'yellow', 'darkorange', 'purple', 'green', 'blue', 'red', 'orange'}\n",
      "{'yellow', 'darkorange', 'purple', 'green', 'blue', 'red', 'orange'}\n",
      "{'yellow', 'darkorange', 'purple', 'green', 'blue', 'red', 'orange'}\n"
     ]
    }
   ],
   "source": [
    "colorset = {\"blue\", \"green\", \"purple\", \"red\", \"orange\", \"yellow\", \"darkorange\", \"blue\"}\n",
    "\n",
    "print(colorset)\n",
    "print(colorset)\n",
    "print(colorset)  # there is only one \"blue\" in output unlike set above.\n"
   ]
  },
  {
   "cell_type": "code",
   "execution_count": 12,
   "metadata": {},
   "outputs": [
    {
     "name": "stdout",
     "output_type": "stream",
     "text": [
      "{'i', 'h', 'e', 'n', 'f', 'u', 'l', 's'}\n",
      "{'i', 'h', 'e', 'n', 'f', 'u', 'l', 's'}\n"
     ]
    }
   ],
   "source": [
    "s =set('unselfishness')\n",
    "print(s)\n",
    "print(s)"
   ]
  },
  {
   "cell_type": "code",
   "execution_count": 13,
   "metadata": {},
   "outputs": [
    {
     "name": "stdout",
     "output_type": "stream",
     "text": [
      "{'rose', 'carnation', 'orchid', 'violet'}\n",
      "{'rose', 'carnation', 'orchid', 'violet'}\n"
     ]
    }
   ],
   "source": [
    "flower_set1 = {'carnation', 'orchid', 'rose', 'violet'}\n",
    "flower_set2 = {'rose', 'orchid', 'rose', 'violet', 'carnation'}\n",
    "print(flower_set1)\n",
    "print(flower_set2)"
   ]
  },
  {
   "cell_type": "code",
   "execution_count": 3,
   "metadata": {},
   "outputs": [
    {
     "name": "stdout",
     "output_type": "stream",
     "text": [
      "{1, 2, 3, 4}\n",
      "{1, 2, 3, 4}\n"
     ]
    },
    {
     "ename": "TypeError",
     "evalue": "unhashable type: 'list'",
     "output_type": "error",
     "traceback": [
      "\u001b[1;31m---------------------------------------------------------------------------\u001b[0m",
      "\u001b[1;31mTypeError\u001b[0m                                 Traceback (most recent call last)",
      "\u001b[1;32mc:\\Users\\Sadullah TANRIKULU\\Desktop\\VScode_python_docs\\sets_types.ipynb Cell 6'\u001b[0m in \u001b[0;36m<module>\u001b[1;34m\u001b[0m\n\u001b[0;32m      <a href='vscode-notebook-cell:/c%3A/Users/Sadullah%20TANRIKULU/Desktop/VScode_python_docs/sets_types.ipynb#ch0000005?line=0'>1</a>\u001b[0m \u001b[39mprint\u001b[39m({\u001b[39m1\u001b[39m,\u001b[39m2\u001b[39m,\u001b[39m3\u001b[39m,\u001b[39m4\u001b[39m})\n\u001b[0;32m      <a href='vscode-notebook-cell:/c%3A/Users/Sadullah%20TANRIKULU/Desktop/VScode_python_docs/sets_types.ipynb#ch0000005?line=1'>2</a>\u001b[0m \u001b[39mprint\u001b[39m(\u001b[39mset\u001b[39m((\u001b[39m1\u001b[39m,\u001b[39m2\u001b[39m,\u001b[39m3\u001b[39m,\u001b[39m4\u001b[39m)))\n\u001b[1;32m----> <a href='vscode-notebook-cell:/c%3A/Users/Sadullah%20TANRIKULU/Desktop/VScode_python_docs/sets_types.ipynb#ch0000005?line=2'>3</a>\u001b[0m \u001b[39mprint\u001b[39m(\u001b[39mset\u001b[39;49m([\u001b[39m1\u001b[39;49m,\u001b[39m2\u001b[39;49m, [\u001b[39m2\u001b[39;49m,\u001b[39m3\u001b[39;49m], \u001b[39m4\u001b[39;49m,\u001b[39m5\u001b[39;49m]))\n\u001b[0;32m      <a href='vscode-notebook-cell:/c%3A/Users/Sadullah%20TANRIKULU/Desktop/VScode_python_docs/sets_types.ipynb#ch0000005?line=3'>4</a>\u001b[0m \u001b[39mprint\u001b[39m(\u001b[39mtype\u001b[39m(\u001b[39mset\u001b[39m([[\u001b[39m1\u001b[39m,\u001b[39m2\u001b[39m], [\u001b[39m3\u001b[39m,\u001b[39m4\u001b[39m], [\u001b[39m4\u001b[39m,\u001b[39m5\u001b[39m]])))\n",
      "\u001b[1;31mTypeError\u001b[0m: unhashable type: 'list'"
     ]
    }
   ],
   "source": [
    "print({1,2,3,4})\n",
    "print(set((1,2,3,4)))\n",
    "print(set([1,2, [2,3], 4,5]))\n",
    "print(type(set([[1,2], [3,4], [4,5]]))) \n",
    "# nested list lerde(veya nested dict lerde) içerdeki liste sete dönüşmediği için \n",
    "# listenin bir elemanı olarak kalamıyor ve hata veriyor."
   ]
  },
  {
   "cell_type": "code",
   "execution_count": 4,
   "metadata": {},
   "outputs": [
    {
     "ename": "TypeError",
     "evalue": "unhashable type: 'list'",
     "output_type": "error",
     "traceback": [
      "\u001b[1;31m---------------------------------------------------------------------------\u001b[0m",
      "\u001b[1;31mTypeError\u001b[0m                                 Traceback (most recent call last)",
      "\u001b[1;32mc:\\Users\\Sadullah TANRIKULU\\Desktop\\VScode_python_docs\\sets_types.ipynb Cell 7'\u001b[0m in \u001b[0;36m<module>\u001b[1;34m\u001b[0m\n\u001b[0;32m      <a href='vscode-notebook-cell:/c%3A/Users/Sadullah%20TANRIKULU/Desktop/VScode_python_docs/sets_types.ipynb#ch0000006?line=0'>1</a>\u001b[0m \u001b[39m\"\"\"But lists and dictionaries are mutable, so they can’t be set elements:\"\"\"\u001b[39;00m\n\u001b[0;32m      <a href='vscode-notebook-cell:/c%3A/Users/Sadullah%20TANRIKULU/Desktop/VScode_python_docs/sets_types.ipynb#ch0000006?line=1'>2</a>\u001b[0m a \u001b[39m=\u001b[39m [\u001b[39m1\u001b[39m, \u001b[39m2\u001b[39m, \u001b[39m3\u001b[39m]\n\u001b[1;32m----> <a href='vscode-notebook-cell:/c%3A/Users/Sadullah%20TANRIKULU/Desktop/VScode_python_docs/sets_types.ipynb#ch0000006?line=2'>3</a>\u001b[0m \u001b[39mprint\u001b[39m({a})\n",
      "\u001b[1;31mTypeError\u001b[0m: unhashable type: 'list'"
     ]
    }
   ],
   "source": [
    "\"\"\"But lists and dictionaries are mutable, so they can’t be set elements:\"\"\"\n",
    "a = [1, 2, 3]\n",
    "print({a})  # listeyi set yapmaya çalışıyoruz.\n"
   ]
  },
  {
   "cell_type": "code",
   "execution_count": 5,
   "metadata": {},
   "outputs": [
    {
     "ename": "TypeError",
     "evalue": "unhashable type: 'dict'",
     "output_type": "error",
     "traceback": [
      "\u001b[1;31m---------------------------------------------------------------------------\u001b[0m",
      "\u001b[1;31mTypeError\u001b[0m                                 Traceback (most recent call last)",
      "\u001b[1;32mc:\\Users\\Sadullah TANRIKULU\\Desktop\\VScode_python_docs\\sets_types.ipynb Cell 8'\u001b[0m in \u001b[0;36m<module>\u001b[1;34m\u001b[0m\n\u001b[0;32m      <a href='vscode-notebook-cell:/c%3A/Users/Sadullah%20TANRIKULU/Desktop/VScode_python_docs/sets_types.ipynb#ch0000007?line=0'>1</a>\u001b[0m d \u001b[39m=\u001b[39m {\u001b[39m'\u001b[39m\u001b[39ma\u001b[39m\u001b[39m'\u001b[39m: \u001b[39m1\u001b[39m, \u001b[39m'\u001b[39m\u001b[39mb\u001b[39m\u001b[39m'\u001b[39m: \u001b[39m2\u001b[39m}\n\u001b[1;32m----> <a href='vscode-notebook-cell:/c%3A/Users/Sadullah%20TANRIKULU/Desktop/VScode_python_docs/sets_types.ipynb#ch0000007?line=1'>2</a>\u001b[0m \u001b[39mprint\u001b[39m({d})\n",
      "\u001b[1;31mTypeError\u001b[0m: unhashable type: 'dict'"
     ]
    }
   ],
   "source": [
    "d = {'a': 1, 'b': 2}\n",
    "print({d})  # sözlüğü set yapmaya çalışıyoruz.\n"
   ]
  },
  {
   "cell_type": "code",
   "execution_count": 3,
   "metadata": {},
   "outputs": [
    {
     "name": "stdout",
     "output_type": "stream",
     "text": [
      "{'b', 'd', 'r'}\n",
      "{'b', 'd', 'r'}\n",
      "{'m', 'z', 'l'}\n",
      "{'m', 'z', 'l'}\n"
     ]
    }
   ],
   "source": [
    "a = set('abracadabra')\n",
    "b = set(\"alacazam\")\n",
    "\n",
    "print(a-b) # same as '.difference()' method\n",
    "print(a.difference(b))\n",
    "print(b-a)\n",
    "print(b.difference(a))"
   ]
  },
  {
   "cell_type": "code",
   "execution_count": 1,
   "metadata": {},
   "outputs": [
    {
     "name": "stdout",
     "output_type": "stream",
     "text": [
      "{'d', 'c', 'a', 'r', 'b', 'm', 'z', 'l'}\n",
      "{'d', 'c', 'a', 'r', 'b', 'm', 'z', 'l'}\n",
      "{'d', 'c', 'a', 'r', 'm', 'z', 'b', 'l'}\n",
      "{'d', 'c', 'a', 'r', 'm', 'z', 'b', 'l'}\n"
     ]
    }
   ],
   "source": [
    "a = set('abracadabra')\n",
    "b = set(\"alacazam\")\n",
    "print(a | b)  # same as '.union()' method\n",
    "print(a.union(b))\n",
    "print(b | a)\n",
    "print(b.union(a))"
   ]
  },
  {
   "cell_type": "code",
   "execution_count": 2,
   "metadata": {},
   "outputs": [
    {
     "name": "stdout",
     "output_type": "stream",
     "text": [
      "{'c', 'a'}\n",
      "{'c', 'a'}\n",
      "{'c', 'a'}\n",
      "{'c', 'a'}\n"
     ]
    }
   ],
   "source": [
    "print(a & b)  # same as \".intersection()\" method\n",
    "print(a.intersection(b))\n",
    "print(b & a)\n",
    "print(b.intersection(a))"
   ]
  },
  {
   "cell_type": "code",
   "execution_count": 7,
   "metadata": {},
   "outputs": [
    {
     "name": "stdout",
     "output_type": "stream",
     "text": [
      "11\n",
      "{'d', 'c', 'a', 'r', 'b'}\n",
      "{'d', 'a', 'r', 'b'}\n",
      "{'d', 'c', 'a', 'r', 'b'}\n"
     ]
    },
    {
     "data": {
      "text/plain": [
       "5"
      ]
     },
     "execution_count": 7,
     "metadata": {},
     "output_type": "execute_result"
    }
   ],
   "source": [
    "a = set('abracadabra')\n",
    "print(len(\"abracadabra\"))\n",
    "print(a)\n",
    "a.remove('c')  # removed \"c\"\n",
    "print(a)\n",
    "a.add(\"c\")  # added \"c\" again\n",
    "print(a)\n",
    "len(a)"
   ]
  },
  {
   "cell_type": "markdown",
   "metadata": {},
   "source": [
    "Task : Find out if the given word is \"comfortable words\" in relation to the ten-finger keyboard use.\n",
    "\n",
    "A comfortable word is a word which you can type always alternating the hand you type with (assuming you type using a Q-keyboard and use of the ten-fingers standard).\n",
    "The word will always be a string consisting of only letters from a to z.\n",
    "Write a program which returns True if it's a comfortable word or False otherwise."
   ]
  },
  {
   "cell_type": "code",
   "execution_count": 17,
   "metadata": {},
   "outputs": [
    {
     "name": "stdout",
     "output_type": "stream",
     "text": [
      "{'u', 'ş', 'n', 'p', 'ü', 'ç', 'ı', 'm', 'k', 'l', 'y', 'j', 'ö', 'i', 'h', 'o'}\n",
      "{'x', 'g', 'd', 'c', 'v', 'a', 'w', 'r', 'e', 't', 'f', 'z', 'b', 'q', 's'}\n",
      "My words' letters: {'r', 's', 'e', 't'}\n",
      "Your words' comfortable word situation is False\n"
     ]
    },
    {
     "data": {
      "text/plain": [
       "True"
      ]
     },
     "execution_count": 17,
     "metadata": {},
     "output_type": "execute_result"
    }
   ],
   "source": [
    "right_finger_letters = set(\"iopklyuhjnmıüşöç\")\n",
    "left_finger_letters = set(\"qwertasdfgzxcvb\")\n",
    "print(right_finger_letters)\n",
    "print(left_finger_letters)\n",
    "word = input(\"Is it comfortable word, pls ask me?:\")\n",
    "set_word = set(word)\n",
    "print(\"My words' letters:\", set_word)\n",
    "print(\"Your words' comfortable word situation is\", bool(set_word.difference(right_finger_letters)\\\n",
    "       and set_word.difference(left_finger_letters)))  # {}\n",
    "\n",
    "set_word.issubset(left_finger_letters)  # boolean sonuç verir\n",
    "\n"
   ]
  },
  {
   "cell_type": "code",
   "execution_count": 15,
   "metadata": {},
   "outputs": [
    {
     "name": "stdout",
     "output_type": "stream",
     "text": [
      "False\n"
     ]
    }
   ],
   "source": [
    "print(set_word in right_finger_letters)"
   ]
  },
  {
   "cell_type": "code",
   "execution_count": 20,
   "metadata": {},
   "outputs": [
    {
     "ename": "KeyError",
     "evalue": "'c'",
     "output_type": "error",
     "traceback": [
      "\u001b[1;31m---------------------------------------------------------------------------\u001b[0m",
      "\u001b[1;31mKeyError\u001b[0m                                  Traceback (most recent call last)",
      "\u001b[1;32mc:\\Users\\Sadullah TANRIKULU\\Desktop\\VScode_python_docs\\sets_types.ipynb Cell 16'\u001b[0m in \u001b[0;36m<module>\u001b[1;34m\u001b[0m\n\u001b[1;32m----> <a href='vscode-notebook-cell:/c%3A/Users/Sadullah%20TANRIKULU/Desktop/VScode_python_docs/sets_types.ipynb#ch0000015?line=0'>1</a>\u001b[0m {\u001b[39m'\u001b[39;49m\u001b[39mu\u001b[39;49m\u001b[39m'\u001b[39;49m, \u001b[39m'\u001b[39;49m\u001b[39mş\u001b[39;49m\u001b[39m'\u001b[39;49m, \u001b[39m'\u001b[39;49m\u001b[39mn\u001b[39;49m\u001b[39m'\u001b[39;49m, \u001b[39m'\u001b[39;49m\u001b[39mp\u001b[39;49m\u001b[39m'\u001b[39;49m}\u001b[39m.\u001b[39;49mremove(\u001b[39m\"\u001b[39;49m\u001b[39mc\u001b[39;49m\u001b[39m\"\u001b[39;49m)\n\u001b[0;32m      <a href='vscode-notebook-cell:/c%3A/Users/Sadullah%20TANRIKULU/Desktop/VScode_python_docs/sets_types.ipynb#ch0000015?line=1'>2</a>\u001b[0m {\u001b[39m'\u001b[39m\u001b[39mx\u001b[39m\u001b[39m'\u001b[39m, \u001b[39m'\u001b[39m\u001b[39mg\u001b[39m\u001b[39m'\u001b[39m, \u001b[39m'\u001b[39m\u001b[39md\u001b[39m\u001b[39m'\u001b[39m, \u001b[39m'\u001b[39m\u001b[39mc\u001b[39m\u001b[39m'\u001b[39m}\u001b[39m.\u001b[39mdiscard(\u001b[39m\"\u001b[39m\u001b[39mu\u001b[39m\u001b[39m\"\u001b[39m)  \u001b[39m# eleman olmasa da hata vermez\u001b[39;00m\n\u001b[0;32m      <a href='vscode-notebook-cell:/c%3A/Users/Sadullah%20TANRIKULU/Desktop/VScode_python_docs/sets_types.ipynb#ch0000015?line=2'>3</a>\u001b[0m {\u001b[39m'\u001b[39m\u001b[39mx\u001b[39m\u001b[39m'\u001b[39m, \u001b[39m'\u001b[39m\u001b[39mg\u001b[39m\u001b[39m'\u001b[39m, \u001b[39m'\u001b[39m\u001b[39md\u001b[39m\u001b[39m'\u001b[39m, \u001b[39m'\u001b[39m\u001b[39mc\u001b[39m\u001b[39m'\u001b[39m}\u001b[39m.\u001b[39mdiscard(\u001b[39m\"\u001b[39m\u001b[39mx\u001b[39m\u001b[39m\"\u001b[39m)\n",
      "\u001b[1;31mKeyError\u001b[0m: 'c'"
     ]
    }
   ],
   "source": [
    "{'u', 'ş', 'n', 'p'}.remove(\"c\")\n",
    "{'x', 'g', 'd', 'c'}.discard(\"u\")  # eleman olmasa da hata vermez\n",
    "{'x', 'g', 'd', 'c'}.discard(\"x\")"
   ]
  },
  {
   "cell_type": "code",
   "execution_count": 1,
   "metadata": {},
   "outputs": [
    {
     "data": {
      "text/plain": [
       "{'blue', 'pink', 'red'}"
      ]
     },
     "execution_count": 1,
     "metadata": {},
     "output_type": "execute_result"
    }
   ],
   "source": [
    "colors = 'red', 'blue', 'pink', 'red'\n",
    "set(colors)\n",
    "\n"
   ]
  },
  {
   "cell_type": "code",
   "execution_count": 2,
   "metadata": {},
   "outputs": [
    {
     "data": {
      "text/plain": [
       "{0, 1, 2}"
      ]
     },
     "execution_count": 2,
     "metadata": {},
     "output_type": "execute_result"
    }
   ],
   "source": [
    "ilk_kumem = {1, 1, 2, 0, 1}\n",
    "ilk_kumem"
   ]
  },
  {
   "cell_type": "code",
   "execution_count": 3,
   "metadata": {},
   "outputs": [
    {
     "data": {
      "text/plain": [
       "5"
      ]
     },
     "execution_count": 3,
     "metadata": {},
     "output_type": "execute_result"
    }
   ],
   "source": [
    "len([1, 1, 2, 0, 1])"
   ]
  },
  {
   "cell_type": "code",
   "execution_count": 4,
   "metadata": {},
   "outputs": [
    {
     "data": {
      "text/plain": [
       "3"
      ]
     },
     "execution_count": 4,
     "metadata": {},
     "output_type": "execute_result"
    }
   ],
   "source": [
    "len({1, 1, 2, 0, 1})"
   ]
  },
  {
   "cell_type": "code",
   "execution_count": 6,
   "metadata": {},
   "outputs": [
    {
     "name": "stdout",
     "output_type": "stream",
     "text": [
      "['a', 'b', 'c', 'd', 'e', 'f', 'g', 'h', 'i', 'j', 'k', 'l', 'm', 'n', 'o', 'p', 'q', 'r', 's', 't', 'u', 'w', 'x', 'v', 'y', 'z']\n"
     ]
    }
   ],
   "source": [
    "letter = \"a b c d e f g h i j k l m n o p q r s t u w x v y z\".split()\n",
    "print(letter)"
   ]
  },
  {
   "cell_type": "code",
   "execution_count": 7,
   "metadata": {},
   "outputs": [
    {
     "name": "stdout",
     "output_type": "stream",
     "text": [
      "{'k', 'u', 'b', 'c', 'w', 'd', 'j', 'o', 'h', 'f', 'z', 's', 'e', 'v', 'y', 'l', 't', 'x', 'a', 'p', 'i', 'g', 'n', 'm', 'q', 'r'}\n"
     ]
    }
   ],
   "source": [
    "print(set(letter))"
   ]
  },
  {
   "cell_type": "code",
   "execution_count": 8,
   "metadata": {},
   "outputs": [
    {
     "name": "stdout",
     "output_type": "stream",
     "text": [
      "{'k', 'u', 'b', 'c', 'w', 'd', 'j', 'o', 'h', 'f', 'z', 's', 'e', 'v', 'y', 'l', 't', 'x', 'a', 'p', 'i', 'g', 'n', 'm', 'q', 'r'}\n"
     ]
    }
   ],
   "source": [
    "print(set(letter))"
   ]
  },
  {
   "cell_type": "code",
   "execution_count": 1,
   "metadata": {},
   "outputs": [
    {
     "name": "stdout",
     "output_type": "stream",
     "text": [
      "['a', 'b', 'c', 'd', 'e', 'f', 'g', 'h', 'i', 'j', 'k', 'l', 'm', 'n', 'o', 'p', 'q', 'r', 's', 't', 'u', 'w', 'x', 'v', 'y', 'z']\n"
     ]
    }
   ],
   "source": [
    "letter = \"a b c d e f g h i j k l m n o p q r s t u w x v y z\".split()\n",
    "print(letter)"
   ]
  },
  {
   "cell_type": "code",
   "execution_count": 3,
   "metadata": {},
   "outputs": [
    {
     "name": "stdout",
     "output_type": "stream",
     "text": [
      "{'q', 'd', 'u', 'j', 'l', 'a', 'f', 'g', 'v', 'i', 'b', 'y', 'o', 't', 'k', 'r', 'c', 'm', 'w', 's', 'z', 'p', 'h', 'e', 'x', 'n'}\n"
     ]
    }
   ],
   "source": [
    "print(set(letter))"
   ]
  },
  {
   "cell_type": "code",
   "execution_count": 4,
   "metadata": {},
   "outputs": [
    {
     "data": {
      "text/plain": [
       "{1, 2, 3, 4, 5}"
      ]
     },
     "execution_count": 4,
     "metadata": {},
     "output_type": "execute_result"
    }
   ],
   "source": [
    "set([1, 2, 3, 4, 5])"
   ]
  },
  {
   "cell_type": "code",
   "execution_count": 6,
   "metadata": {},
   "outputs": [],
   "source": [
    "a = {'carnation', 'orchid', 'rose', 'violet'} \n",
    "b = {'rose', 'orchid', 'rose', 'violet', 'carnation'} "
   ]
  },
  {
   "cell_type": "code",
   "execution_count": 8,
   "metadata": {},
   "outputs": [],
   "source": [
    "a.add(\"daisy\")\n",
    "b.remove(\"rose\")"
   ]
  },
  {
   "cell_type": "code",
   "execution_count": 9,
   "metadata": {},
   "outputs": [
    {
     "name": "stdout",
     "output_type": "stream",
     "text": [
      "{'carnation', 'orchid', 'daisy', 'violet', 'rose'}\n",
      "{'violet', 'carnation', 'orchid'}\n"
     ]
    }
   ],
   "source": [
    "print(a)\n",
    "print(b)\n"
   ]
  },
  {
   "cell_type": "code",
   "execution_count": 12,
   "metadata": {},
   "outputs": [
    {
     "name": "stdout",
     "output_type": "stream",
     "text": [
      "{'p', 'h', 'd', 'l', 'a', 'i', 'e'}\n"
     ]
    }
   ],
   "source": [
    "a = set(\"philedelphia\")\n",
    "b = {\"dolphin\"}\n",
    "print(a-b)\n"
   ]
  },
  {
   "cell_type": "code",
   "execution_count": 15,
   "metadata": {},
   "outputs": [
    {
     "name": "stdout",
     "output_type": "stream",
     "text": [
      "{'n', 'o', 't', 'g', 'i', 'w'}\n",
      "{'h', 'n', 'o', 'l', 'a', 't', 'g', 'i', 'w', 's', 'e'}\n",
      "{'s', 'a', 'h'}\n",
      "{'l', 'e'}\n"
     ]
    }
   ],
   "source": [
    "usa = set(\"washington\")\n",
    "nzea = set(\"wellington\")\n",
    "print(usa.intersection(nzea))\n",
    "print(usa.union(nzea))\n",
    "print(usa.difference(nzea))\n",
    "print(nzea.difference(usa))\n"
   ]
  },
  {
   "cell_type": "code",
   "execution_count": 21,
   "metadata": {},
   "outputs": [
    {
     "name": "stdout",
     "output_type": "stream",
     "text": [
      "bon appetit\n"
     ]
    }
   ],
   "source": [
    "hamburger = \"minced meat\" and \"hamburger bread\" and (\"lettuce\" or \"pepper\") and \"grocery store\" or \"onion\"\n",
    "if hamburger:\n",
    "    print(\"bon appetit\")"
   ]
  },
  {
   "cell_type": "code",
   "execution_count": 22,
   "metadata": {},
   "outputs": [
    {
     "name": "stdout",
     "output_type": "stream",
     "text": [
      "WE ARE THE SAME\n"
     ]
    }
   ],
   "source": [
    "a = set(\"TWELVE PLUS ONE\")\n",
    "b = set(\"ELEVEN PLUS TWO\")\n",
    "if a == b:\n",
    "    print(\"WE ARE THE SAME\")\n"
   ]
  },
  {
   "cell_type": "code",
   "execution_count": 28,
   "metadata": {},
   "outputs": [
    {
     "data": {
      "text/plain": [
       "True"
      ]
     },
     "execution_count": 28,
     "metadata": {},
     "output_type": "execute_result"
    }
   ],
   "source": [
    "# tek satırda True False alma yöntemi\n",
    "input(\"yes or no\").lower().strip() == \"yes\""
   ]
  },
  {
   "cell_type": "code",
   "execution_count": 31,
   "metadata": {},
   "outputs": [
    {
     "name": "stdout",
     "output_type": "stream",
     "text": [
      "You entered False\n"
     ]
    }
   ],
   "source": [
    "#  incredible python\n",
    "print(f\"You entered {input('Enter yes or no:').title().strip() == 'Yes'}\")"
   ]
  },
  {
   "cell_type": "code",
   "execution_count": 1,
   "metadata": {},
   "outputs": [
    {
     "name": "stdout",
     "output_type": "stream",
     "text": [
      "{20, 70, 10, 60}\n"
     ]
    }
   ],
   "source": [
    "set1 = {10, 20, 30, 40, 50}\n",
    "set2 = {30, 40, 50, 60, 70}\n",
    "set3 = set1.symmetric_difference(set2)\n",
    "print(set3)"
   ]
  },
  {
   "cell_type": "code",
   "execution_count": 2,
   "metadata": {},
   "outputs": [
    {
     "name": "stdout",
     "output_type": "stream",
     "text": [
      "{1, 2, 3}\n",
      "{1, 2, 3, 4}\n"
     ]
    }
   ],
   "source": [
    "set1 = {1, 2, 3}\n",
    "set2 = set1.copy()\n",
    "set2.add(4)\n",
    "print(set1)\n",
    "print(set2)"
   ]
  },
  {
   "cell_type": "code",
   "execution_count": null,
   "metadata": {},
   "outputs": [],
   "source": []
  },
  {
   "cell_type": "code",
   "execution_count": null,
   "metadata": {},
   "outputs": [],
   "source": []
  },
  {
   "cell_type": "code",
   "execution_count": null,
   "metadata": {},
   "outputs": [],
   "source": []
  },
  {
   "cell_type": "code",
   "execution_count": null,
   "metadata": {},
   "outputs": [],
   "source": []
  },
  {
   "cell_type": "code",
   "execution_count": null,
   "metadata": {},
   "outputs": [],
   "source": []
  },
  {
   "cell_type": "code",
   "execution_count": null,
   "metadata": {},
   "outputs": [],
   "source": []
  },
  {
   "cell_type": "code",
   "execution_count": null,
   "metadata": {},
   "outputs": [],
   "source": []
  },
  {
   "cell_type": "code",
   "execution_count": null,
   "metadata": {},
   "outputs": [],
   "source": []
  }
 ],
 "metadata": {
  "interpreter": {
   "hash": "8f4a6391e1b416e87673bf8c434effa0344087e493d9d0bc28a0b378216aa186"
  },
  "kernelspec": {
   "display_name": "Python 3.10.2 64-bit",
   "language": "python",
   "name": "python3"
  },
  "language_info": {
   "codemirror_mode": {
    "name": "ipython",
    "version": 3
   },
   "file_extension": ".py",
   "mimetype": "text/x-python",
   "name": "python",
   "nbconvert_exporter": "python",
   "pygments_lexer": "ipython3",
   "version": "3.10.2"
  },
  "orig_nbformat": 4
 },
 "nbformat": 4,
 "nbformat_minor": 2
}
